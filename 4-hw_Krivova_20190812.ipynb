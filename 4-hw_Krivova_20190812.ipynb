{
 "cells": [
  {
   "cell_type": "markdown",
   "metadata": {},
   "source": [
    "## Домашнее задание к занятию №4 от 12.08.2019 г. «Классы»\n",
    "ФИО: Кривова Татьяна Сергеевна"
   ]
  },
  {
   "cell_type": "markdown",
   "metadata": {},
   "source": [
    "**Задание 1**. Напишите функцию, которая возвращает название валюты (поле *'Name'*) с максимальным значением курса с помощью сервиса *https://www.cbr-xml-daily.ru/daily_json.js*."
   ]
  },
  {
   "cell_type": "code",
   "execution_count": 1,
   "metadata": {},
   "outputs": [],
   "source": [
    "import requests as rqs\n",
    "\n",
    "url = 'https://www.cbr-xml-daily.ru/daily_json.js'"
   ]
  },
  {
   "cell_type": "code",
   "execution_count": 2,
   "metadata": {},
   "outputs": [],
   "source": [
    "# Решение: метод report_maximum в классе Rate "
   ]
  },
  {
   "cell_type": "markdown",
   "metadata": {},
   "source": [
    "**Задание 2**. Добавьте в класс Rate параметр diff (со значениями *True* или *False*), который в случае значения *True* в методах eur и usd будет возвращать не курс валюты, а изменение по сравнению с прошлым значением.\n",
    "\n",
    "Считайте, self.diff будет принимать значение *True* только при возврате значения курса. При отображении всей информации о валюте он не используется."
   ]
  },
  {
   "cell_type": "code",
   "execution_count": 3,
   "metadata": {},
   "outputs": [],
   "source": [
    "class Rate:\n",
    "    def __init__(self, form='short', diff=True):\n",
    "        self.form = form\n",
    "        if self.form == 'full': self.diff = False\n",
    "        else: self.diff = diff\n",
    "    \n",
    "    def recieve_cbr_rates(self):\n",
    "        '''Возвращает ответ сервиса с информацией о валютах в виде словаря.'''\n",
    "        info_recieved = {}\n",
    "        try:\n",
    "            r = rqs.get(url)\n",
    "            info_recieved = r.json()['Valute']\n",
    "            return info_recieved\n",
    "        except: return info_recieved\n",
    "    \n",
    "    def make_format(self, currency:str):\n",
    "        '''Возвращает информацию о валюте currency: полную информацию при self.form == 'full', либо текущий курс.'''\n",
    "        response = self.recieve_cbr_rates()\n",
    "        if currency not in response: return 'Ошибка'\n",
    "        \n",
    "        if self.form == 'full': return response[currency]\n",
    "        else: return response[currency]['Value']\n",
    "    \n",
    "    def report_maximum(self):\n",
    "        '''Возвращает название валюты с максимальным значением курса.'''\n",
    "        response = self.recieve_cbr_rates()\n",
    "        name_value_dict = {} # Словарь из названий валют и текущего курса\n",
    "        max_names = [] # Список из названий валют с максимальным курсом. Обрабатывает случай, когда таких валют более одной\n",
    "        \n",
    "        for element in response.values(): \n",
    "            name_value_dict[element['Name']] = element['Value']\n",
    "        \n",
    "        for name, value in name_value_dict.items():\n",
    "            if value == max(name_value_dict.values()): max_names.append(name)\n",
    "                \n",
    "        if len(max_names) == 1: return max_names[0] # Наиболее частый случай\n",
    "        else: return max_names\n",
    "    \n",
    "    def show_difference(self, currency):\n",
    "        '''Возвращает изменение курса валюты currency по сравнению с предыдущим значением.'''\n",
    "        response = self.recieve_cbr_rates()\n",
    "        if currency not in response: return 'Ошибка'\n",
    "        return round(response[currency]['Value'] - response[currency]['Previous'], 4)\n",
    "    \n",
    "    def eur(self):\n",
    "        '''Возвращает полную информацию о евро при self.form == 'full', либо\\\n",
    "текущий курс при self.form != 'full' и self.diff == False, либо изменение курса при self.diff == True.'''\n",
    "\n",
    "        if self.diff: # при этом условии возвращает разницу курсов евро Текущий - Предыдущий\n",
    "            return self.show_difference('EUR')\n",
    "        else: return self.make_format('EUR')\n",
    "  \n",
    "    def usd(self):\n",
    "        '''Возвращает полную информацию о долларе США при self.form == 'full', либо\\\n",
    "текущий курс при self.form != 'full' и self.diff == False, либо изменение курса при self.diff == True.'''\n",
    "  \n",
    "        if self.diff: # при этом условии возвращает разницу курсов доллара США Текущий - Предыдущий\n",
    "            return self.show_difference('USD')\n",
    "        else: return self.make_format('USD')"
   ]
  },
  {
   "cell_type": "code",
   "execution_count": 4,
   "metadata": {},
   "outputs": [],
   "source": [
    "r = Rate()\n",
    "r_full = Rate('full', False)\n",
    "r_short_false = Rate('short', False)"
   ]
  },
  {
   "cell_type": "code",
   "execution_count": 5,
   "metadata": {},
   "outputs": [
    {
     "data": {
      "text/plain": [
       "'Датских крон'"
      ]
     },
     "execution_count": 5,
     "metadata": {},
     "output_type": "execute_result"
    }
   ],
   "source": [
    "r.report_maximum()"
   ]
  },
  {
   "cell_type": "code",
   "execution_count": 6,
   "metadata": {},
   "outputs": [
    {
     "data": {
      "text/plain": [
       "-0.3053"
      ]
     },
     "execution_count": 6,
     "metadata": {},
     "output_type": "execute_result"
    }
   ],
   "source": [
    "r.show_difference('DKK')"
   ]
  },
  {
   "cell_type": "code",
   "execution_count": 7,
   "metadata": {},
   "outputs": [
    {
     "data": {
      "text/plain": [
       "-0.2069"
      ]
     },
     "execution_count": 7,
     "metadata": {},
     "output_type": "execute_result"
    },
    {
     "data": {
      "text/plain": [
       "{'ID': 'R01239',\n",
       " 'NumCode': '978',\n",
       " 'CharCode': 'EUR',\n",
       " 'Nominal': 1,\n",
       " 'Name': 'Евро',\n",
       " 'Value': 72.6243,\n",
       " 'Previous': 72.8312}"
      ]
     },
     "execution_count": 7,
     "metadata": {},
     "output_type": "execute_result"
    },
    {
     "data": {
      "text/plain": [
       "72.6243"
      ]
     },
     "execution_count": 7,
     "metadata": {},
     "output_type": "execute_result"
    }
   ],
   "source": [
    "r.eur()\n",
    "r_full.eur()\n",
    "r_short_false.eur()"
   ]
  },
  {
   "cell_type": "code",
   "execution_count": 8,
   "metadata": {},
   "outputs": [
    {
     "data": {
      "text/plain": [
       "-0.015"
      ]
     },
     "execution_count": 8,
     "metadata": {},
     "output_type": "execute_result"
    },
    {
     "data": {
      "text/plain": [
       "{'ID': 'R01235',\n",
       " 'NumCode': '840',\n",
       " 'CharCode': 'USD',\n",
       " 'Nominal': 1,\n",
       " 'Name': 'Доллар США',\n",
       " 'Value': 65.6046,\n",
       " 'Previous': 65.6196}"
      ]
     },
     "execution_count": 8,
     "metadata": {},
     "output_type": "execute_result"
    },
    {
     "data": {
      "text/plain": [
       "65.6046"
      ]
     },
     "execution_count": 8,
     "metadata": {},
     "output_type": "execute_result"
    }
   ],
   "source": [
    "r.usd()\n",
    "r_full.usd()\n",
    "r_short_false.usd()"
   ]
  },
  {
   "cell_type": "markdown",
   "metadata": {},
   "source": [
    "**Задание 3**. Напишите класс Designer, который учитывает количество международных премий. Подсказки в коде занятия в разделе *\"Домашнее задание задача 3\"*. Считайте, что при выходе на работу сотрудник уже имеет две премии и их количество не меняется со стажем (конечно если хотите это можно вручную менять). Выполните проверку для 20 аккредитаций дизайнера Елены."
   ]
  },
  {
   "cell_type": "code",
   "execution_count": 9,
   "metadata": {},
   "outputs": [],
   "source": [
    "class Employee:\n",
    "    def __init__(self, name, seniority):\n",
    "        self.name = name # Имя сотрудника\n",
    "        self.seniority = seniority # Трудовой стаж в пройденных аккредитациях\n",
    "        self.grade = 1 # Начальное значение уровня сотрудника (грейда)\n",
    "    \n",
    "    def grade_up(self):\n",
    "        \"\"\"Повышает уровень сотрудника\"\"\"\n",
    "        self.grade += 1\n",
    "    \n",
    "    def publish_grade(self):\n",
    "        \"\"\"Публикация результатов аккредитации сотрудников\"\"\"\n",
    "        print(self.name, self.grade)"
   ]
  },
  {
   "cell_type": "code",
   "execution_count": 10,
   "metadata": {},
   "outputs": [],
   "source": [
    "class Designer(Employee):\n",
    "    def __init__(self, name, seniority, awards):\n",
    "        super().__init__(name, seniority)\n",
    "        self.awards = awards\n",
    "        self.estimation = seniority + awards*2 # Начальное значение счетчика баллов\n",
    "    \n",
    "    def publish_grade(self): # переопределяю метод из родительского класса\n",
    "        \"\"\"Публикация результатов аккредитации сотрудников\"\"\"\n",
    "        print(f'Дизайнер {self.name}: баллы {self.estimation}, стаж {self.seniority}, грейд {self.grade}')\n",
    "    \n",
    "    def check_if_it_is_time_for_upgrade(self):\n",
    "        # для каждой аккредитации стаж увеличивается на 1\n",
    "        # считаем, что все дизайнеры проходят все аккредитации успешно\n",
    "        self.seniority += 1\n",
    "        self.estimation += 1 # Счетчик баллов увеличивается при увеличении стажа\n",
    "                \n",
    "        # условие повышения сотрудника из презентации\n",
    "        if self.estimation >= 7:\n",
    "            self.grade_up()\n",
    "            self.estimation -=7\n",
    "        \n",
    "        # публикация результатов\n",
    "        return self.publish_grade()"
   ]
  },
  {
   "cell_type": "code",
   "execution_count": 11,
   "metadata": {},
   "outputs": [
    {
     "name": "stdout",
     "output_type": "stream",
     "text": [
      "Дизайнер Елена: баллы 5, стаж 1, грейд 1\n",
      "Дизайнер Елена: баллы 6, стаж 2, грейд 1\n",
      "Дизайнер Елена: баллы 0, стаж 3, грейд 2\n",
      "Дизайнер Елена: баллы 1, стаж 4, грейд 2\n",
      "Дизайнер Елена: баллы 2, стаж 5, грейд 2\n",
      "Дизайнер Елена: баллы 3, стаж 6, грейд 2\n",
      "Дизайнер Елена: баллы 4, стаж 7, грейд 2\n",
      "Дизайнер Елена: баллы 5, стаж 8, грейд 2\n",
      "Дизайнер Елена: баллы 6, стаж 9, грейд 2\n",
      "Дизайнер Елена: баллы 0, стаж 10, грейд 3\n",
      "Дизайнер Елена: баллы 1, стаж 11, грейд 3\n",
      "Дизайнер Елена: баллы 2, стаж 12, грейд 3\n",
      "Дизайнер Елена: баллы 3, стаж 13, грейд 3\n",
      "Дизайнер Елена: баллы 4, стаж 14, грейд 3\n",
      "Дизайнер Елена: баллы 5, стаж 15, грейд 3\n",
      "Дизайнер Елена: баллы 6, стаж 16, грейд 3\n",
      "Дизайнер Елена: баллы 0, стаж 17, грейд 4\n",
      "Дизайнер Елена: баллы 1, стаж 18, грейд 4\n",
      "Дизайнер Елена: баллы 2, стаж 19, грейд 4\n",
      "Дизайнер Елена: баллы 3, стаж 20, грейд 4\n"
     ]
    }
   ],
   "source": [
    "elena = Designer('Елена', seniority=0, awards=2)\n",
    "\n",
    "for i in range(20):\n",
    "    elena.check_if_it_is_time_for_upgrade()"
   ]
  }
 ],
 "metadata": {
  "kernelspec": {
   "display_name": "Python 3",
   "language": "python",
   "name": "python3"
  },
  "language_info": {
   "codemirror_mode": {
    "name": "ipython",
    "version": 3
   },
   "file_extension": ".py",
   "mimetype": "text/x-python",
   "name": "python",
   "nbconvert_exporter": "python",
   "pygments_lexer": "ipython3",
   "version": "3.7.3"
  }
 },
 "nbformat": 4,
 "nbformat_minor": 2
}
