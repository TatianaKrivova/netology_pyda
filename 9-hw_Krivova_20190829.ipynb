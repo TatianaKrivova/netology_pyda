{
 "cells": [
  {
   "cell_type": "markdown",
   "metadata": {},
   "source": [
    "## Домашнее задание к занятию №9 от 29.08.2019 г. «Оптимизация вычислений в Python и большие данные»\n",
    "ФИО: Кривова Татьяна Сергеевна"
   ]
  },
  {
   "cell_type": "markdown",
   "metadata": {},
   "source": [
    "**Задание 1**. Напишите функцию date_range, которая возвращает список дней между датами *start_date* и *end_date*. Даты должны вводиться в формате YYYY-MM-DD."
   ]
  },
  {
   "cell_type": "code",
   "execution_count": 1,
   "metadata": {},
   "outputs": [],
   "source": [
    "from datetime import date, timedelta\n",
    "\n",
    "september = '2019-09-01'\n",
    "today = date.today()"
   ]
  },
  {
   "cell_type": "code",
   "execution_count": 2,
   "metadata": {},
   "outputs": [
    {
     "name": "stdout",
     "output_type": "stream",
     "text": [
      "\n",
      "Cписок дней между датами 2019-09-01 и 2019-09-08:\n"
     ]
    },
    {
     "data": {
      "text/plain": [
       "['Mon: 02.09.2019',\n",
       " 'Tue: 03.09.2019',\n",
       " 'Wed: 04.09.2019',\n",
       " 'Thu: 05.09.2019',\n",
       " 'Fri: 06.09.2019',\n",
       " 'Sat: 07.09.2019']"
      ]
     },
     "execution_count": 2,
     "metadata": {},
     "output_type": "execute_result"
    }
   ],
   "source": [
    "def date_range(start_date=september, end_date=today):\n",
    "    '''Возвращает список дней между датами. Аргументы (str, либо datetime.date): start_date, end_date.'''\n",
    "    spisok = []\n",
    "    \n",
    "    if type(start_date) == str: start_date = date.fromisoformat(start_date)\n",
    "    if type(end_date) == str: end_date = date.fromisoformat(end_date)\n",
    "    \n",
    "    if start_date <= end_date:\n",
    "        print(f'\\nCписок дней между датами {start_date} и {end_date}:')\n",
    "        \n",
    "        while start_date < end_date:\n",
    "            start_date += timedelta(days=1)\n",
    "            if start_date != end_date: spisok.append(start_date.strftime('%a: %d.%m.%Y'))\n",
    "    return spisok\n",
    "    \n",
    "date_range() "
   ]
  },
  {
   "cell_type": "code",
   "execution_count": 3,
   "metadata": {
    "scrolled": true
   },
   "outputs": [
    {
     "name": "stdout",
     "output_type": "stream",
     "text": [
      "Введите дату начала периода в формате YYYY-MM-DD: 2019-12-01\n",
      "Введите дату окончания периода в формате YYYY-MM-DD: 2020-01-01\n",
      "\n",
      "Cписок дней между датами 2019-12-01 и 2020-01-01:\n"
     ]
    },
    {
     "data": {
      "text/plain": [
       "['Mon: 02.12.2019',\n",
       " 'Tue: 03.12.2019',\n",
       " 'Wed: 04.12.2019',\n",
       " 'Thu: 05.12.2019',\n",
       " 'Fri: 06.12.2019',\n",
       " 'Sat: 07.12.2019',\n",
       " 'Sun: 08.12.2019',\n",
       " 'Mon: 09.12.2019',\n",
       " 'Tue: 10.12.2019',\n",
       " 'Wed: 11.12.2019',\n",
       " 'Thu: 12.12.2019',\n",
       " 'Fri: 13.12.2019',\n",
       " 'Sat: 14.12.2019',\n",
       " 'Sun: 15.12.2019',\n",
       " 'Mon: 16.12.2019',\n",
       " 'Tue: 17.12.2019',\n",
       " 'Wed: 18.12.2019',\n",
       " 'Thu: 19.12.2019',\n",
       " 'Fri: 20.12.2019',\n",
       " 'Sat: 21.12.2019',\n",
       " 'Sun: 22.12.2019',\n",
       " 'Mon: 23.12.2019',\n",
       " 'Tue: 24.12.2019',\n",
       " 'Wed: 25.12.2019',\n",
       " 'Thu: 26.12.2019',\n",
       " 'Fri: 27.12.2019',\n",
       " 'Sat: 28.12.2019',\n",
       " 'Sun: 29.12.2019',\n",
       " 'Mon: 30.12.2019',\n",
       " 'Tue: 31.12.2019']"
      ]
     },
     "execution_count": 3,
     "metadata": {},
     "output_type": "execute_result"
    }
   ],
   "source": [
    "day_1 = input('Введите дату начала периода в формате YYYY-MM-DD: ') \n",
    "day_2 = input('Введите дату окончания периода в формате YYYY-MM-DD: ')\n",
    "\n",
    "date_range(day_1, day_2)"
   ]
  },
  {
   "cell_type": "markdown",
   "metadata": {},
   "source": [
    "**Задание 2**. Дополните функцию из первого задания проверкой на корректность дат.\n",
    "\n",
    "В случае неверного формата или если *start_date > end_date* должен возвращаться пустой список."
   ]
  },
  {
   "cell_type": "code",
   "execution_count": 4,
   "metadata": {
    "scrolled": false
   },
   "outputs": [],
   "source": [
    "def date_range_check(start_date=september, end_date=today):\n",
    "    '''Возвращает список дней между датами. Аргументы (str, либо datetime.date): start_date, end_date.'''\n",
    "    spisok = []\n",
    "    \n",
    "    try:\n",
    "        if type(start_date) == str: start_date = date.fromisoformat(start_date)\n",
    "        if type(end_date) == str: end_date = date.fromisoformat(end_date)\n",
    "    \n",
    "        if start_date <= end_date:\n",
    "            print(f'\\nCписок дней между датами {start_date} и {end_date}:')\n",
    "        \n",
    "            while start_date < end_date:\n",
    "                start_date += timedelta(days=1)\n",
    "                if start_date != end_date: spisok.append(start_date.strftime('%a: %d.%m.%Y'))\n",
    "        return spisok\n",
    "    \n",
    "    except Exception as e:\n",
    "        print('\\nНекорректный ввод:', e)\n",
    "        return spisok"
   ]
  },
  {
   "cell_type": "code",
   "execution_count": 5,
   "metadata": {},
   "outputs": [
    {
     "name": "stdout",
     "output_type": "stream",
     "text": [
      "\n",
      "Cписок дней между датами 2019-09-01 и 2019-09-08:\n"
     ]
    },
    {
     "data": {
      "text/plain": [
       "['Mon: 02.09.2019',\n",
       " 'Tue: 03.09.2019',\n",
       " 'Wed: 04.09.2019',\n",
       " 'Thu: 05.09.2019',\n",
       " 'Fri: 06.09.2019',\n",
       " 'Sat: 07.09.2019']"
      ]
     },
     "execution_count": 5,
     "metadata": {},
     "output_type": "execute_result"
    }
   ],
   "source": [
    "date_range_check()"
   ]
  },
  {
   "cell_type": "code",
   "execution_count": 6,
   "metadata": {},
   "outputs": [
    {
     "name": "stdout",
     "output_type": "stream",
     "text": [
      "Введите дату начала периода в формате YYYY-MM-DD: fyi\n",
      "Введите дату окончания периода в формате YYYY-MM-DD: boo\n",
      "\n",
      "Некорректный ввод: Invalid isoformat string: 'fyi'\n"
     ]
    },
    {
     "data": {
      "text/plain": [
       "[]"
      ]
     },
     "execution_count": 6,
     "metadata": {},
     "output_type": "execute_result"
    }
   ],
   "source": [
    "day_1 = input('Введите дату начала периода в формате YYYY-MM-DD: ') \n",
    "day_2 = input('Введите дату окончания периода в формате YYYY-MM-DD: ')\n",
    "\n",
    "date_range_check(day_1, day_2)"
   ]
  },
  {
   "cell_type": "markdown",
   "metadata": {},
   "source": [
    "**Задание 3**. Дан поток дат в формате YYYY-MM-DD, в которых встречаются некорректные значения. Напишите функцию, которая проверяет эти даты на корректность. Т.е. для каждой даты возвращает *True* (дата корректна) или *False* (некорректная дата)."
   ]
  },
  {
   "cell_type": "code",
   "execution_count": 7,
   "metadata": {},
   "outputs": [],
   "source": [
    "stream = ['2018-04-02', '2018-02-29', '2018-19-02']\n",
    "\n",
    "from datetime import date"
   ]
  },
  {
   "cell_type": "code",
   "execution_count": 8,
   "metadata": {},
   "outputs": [],
   "source": [
    "def check_correctness(spisok=stream):\n",
    "    '''Проверяет на корректность даты из списка. Аргумент(list): spisok.'''\n",
    "    for element in spisok:\n",
    "        try:\n",
    "            test = date.fromisoformat(element)\n",
    "            print (f'{element}: True (дата корректна)')\n",
    "        except:\n",
    "            print (f'{element}: False (некорректная дата)')    "
   ]
  },
  {
   "cell_type": "code",
   "execution_count": 9,
   "metadata": {},
   "outputs": [
    {
     "name": "stdout",
     "output_type": "stream",
     "text": [
      "2018-04-02: True (дата корректна)\n",
      "2018-02-29: False (некорректная дата)\n",
      "2018-19-02: False (некорректная дата)\n"
     ]
    }
   ],
   "source": [
    "check_correctness()"
   ]
  },
  {
   "cell_type": "markdown",
   "metadata": {},
   "source": [
    "**Задание 4**. В последнем примере поиска по словарю мы использовали 3 столбца. Напишите функцию, которая формирует словарь для поиска по n столбцам."
   ]
  },
  {
   "cell_type": "code",
   "execution_count": 10,
   "metadata": {},
   "outputs": [],
   "source": [
    "import pandas as pd"
   ]
  },
  {
   "cell_type": "code",
   "execution_count": 11,
   "metadata": {},
   "outputs": [
    {
     "data": {
      "text/html": [
       "<div>\n",
       "<style scoped>\n",
       "    .dataframe tbody tr th:only-of-type {\n",
       "        vertical-align: middle;\n",
       "    }\n",
       "\n",
       "    .dataframe tbody tr th {\n",
       "        vertical-align: top;\n",
       "    }\n",
       "\n",
       "    .dataframe thead th {\n",
       "        text-align: right;\n",
       "    }\n",
       "</style>\n",
       "<table border=\"1\" class=\"dataframe\">\n",
       "  <thead>\n",
       "    <tr style=\"text-align: right;\">\n",
       "      <th></th>\n",
       "      <th>Name</th>\n",
       "      <th>Platform</th>\n",
       "      <th>Year_of_Release</th>\n",
       "      <th>Genre</th>\n",
       "      <th>Publisher</th>\n",
       "      <th>NA_Sales</th>\n",
       "      <th>EU_Sales</th>\n",
       "      <th>JP_Sales</th>\n",
       "      <th>Other_Sales</th>\n",
       "      <th>Global_Sales</th>\n",
       "      <th>Critic_Score</th>\n",
       "      <th>Critic_Count</th>\n",
       "      <th>User_Score</th>\n",
       "      <th>User_Count</th>\n",
       "      <th>Developer</th>\n",
       "      <th>Rating</th>\n",
       "    </tr>\n",
       "  </thead>\n",
       "  <tbody>\n",
       "    <tr>\n",
       "      <th>0</th>\n",
       "      <td>Verification1</td>\n",
       "      <td>NaN</td>\n",
       "      <td>NaN</td>\n",
       "      <td>NaN</td>\n",
       "      <td>NaN</td>\n",
       "      <td>NaN</td>\n",
       "      <td>NaN</td>\n",
       "      <td>NaN</td>\n",
       "      <td>NaN</td>\n",
       "      <td>NaN</td>\n",
       "      <td>NaN</td>\n",
       "      <td>NaN</td>\n",
       "      <td>NaN</td>\n",
       "      <td>NaN</td>\n",
       "      <td>NaN</td>\n",
       "      <td>NaN</td>\n",
       "    </tr>\n",
       "    <tr>\n",
       "      <th>1</th>\n",
       "      <td>Verification2</td>\n",
       "      <td>fyi</td>\n",
       "      <td>fyi</td>\n",
       "      <td>fyi</td>\n",
       "      <td>fyi</td>\n",
       "      <td>NaN</td>\n",
       "      <td>NaN</td>\n",
       "      <td>NaN</td>\n",
       "      <td>NaN</td>\n",
       "      <td>NaN</td>\n",
       "      <td>NaN</td>\n",
       "      <td>NaN</td>\n",
       "      <td>NaN</td>\n",
       "      <td>NaN</td>\n",
       "      <td>NaN</td>\n",
       "      <td>NaN</td>\n",
       "    </tr>\n",
       "    <tr>\n",
       "      <th>2</th>\n",
       "      <td>Wii Sports</td>\n",
       "      <td>Wii</td>\n",
       "      <td>2006</td>\n",
       "      <td>Sports</td>\n",
       "      <td>Nintendo</td>\n",
       "      <td>41.36</td>\n",
       "      <td>28.96</td>\n",
       "      <td>3.77</td>\n",
       "      <td>8.45</td>\n",
       "      <td>82.53</td>\n",
       "      <td>76.0</td>\n",
       "      <td>51.0</td>\n",
       "      <td>8</td>\n",
       "      <td>322.0</td>\n",
       "      <td>Nintendo</td>\n",
       "      <td>E</td>\n",
       "    </tr>\n",
       "    <tr>\n",
       "      <th>3</th>\n",
       "      <td>Super Mario Bros.</td>\n",
       "      <td>NES</td>\n",
       "      <td>1985</td>\n",
       "      <td>Platform</td>\n",
       "      <td>Nintendo</td>\n",
       "      <td>29.08</td>\n",
       "      <td>3.58</td>\n",
       "      <td>6.81</td>\n",
       "      <td>0.77</td>\n",
       "      <td>40.24</td>\n",
       "      <td>NaN</td>\n",
       "      <td>NaN</td>\n",
       "      <td>NaN</td>\n",
       "      <td>NaN</td>\n",
       "      <td>NaN</td>\n",
       "      <td>NaN</td>\n",
       "    </tr>\n",
       "    <tr>\n",
       "      <th>4</th>\n",
       "      <td>Mario Kart Wii</td>\n",
       "      <td>Wii</td>\n",
       "      <td>2008</td>\n",
       "      <td>Racing</td>\n",
       "      <td>Nintendo</td>\n",
       "      <td>15.68</td>\n",
       "      <td>12.76</td>\n",
       "      <td>3.79</td>\n",
       "      <td>3.29</td>\n",
       "      <td>35.52</td>\n",
       "      <td>82.0</td>\n",
       "      <td>73.0</td>\n",
       "      <td>8.3</td>\n",
       "      <td>709.0</td>\n",
       "      <td>Nintendo</td>\n",
       "      <td>E</td>\n",
       "    </tr>\n",
       "    <tr>\n",
       "      <th>5</th>\n",
       "      <td>Wii Sports Resort</td>\n",
       "      <td>Wii</td>\n",
       "      <td>2009</td>\n",
       "      <td>Sports</td>\n",
       "      <td>Nintendo</td>\n",
       "      <td>15.61</td>\n",
       "      <td>10.93</td>\n",
       "      <td>3.28</td>\n",
       "      <td>2.95</td>\n",
       "      <td>32.77</td>\n",
       "      <td>80.0</td>\n",
       "      <td>73.0</td>\n",
       "      <td>8</td>\n",
       "      <td>192.0</td>\n",
       "      <td>Nintendo</td>\n",
       "      <td>E</td>\n",
       "    </tr>\n",
       "    <tr>\n",
       "      <th>6</th>\n",
       "      <td>Pokemon Red/Pokemon Blue</td>\n",
       "      <td>GB</td>\n",
       "      <td>1996</td>\n",
       "      <td>Role-Playing</td>\n",
       "      <td>Nintendo</td>\n",
       "      <td>11.27</td>\n",
       "      <td>8.89</td>\n",
       "      <td>10.22</td>\n",
       "      <td>1.00</td>\n",
       "      <td>31.37</td>\n",
       "      <td>NaN</td>\n",
       "      <td>NaN</td>\n",
       "      <td>NaN</td>\n",
       "      <td>NaN</td>\n",
       "      <td>NaN</td>\n",
       "      <td>NaN</td>\n",
       "    </tr>\n",
       "    <tr>\n",
       "      <th>7</th>\n",
       "      <td>Tetris</td>\n",
       "      <td>GB</td>\n",
       "      <td>1989</td>\n",
       "      <td>Puzzle</td>\n",
       "      <td>Nintendo</td>\n",
       "      <td>23.20</td>\n",
       "      <td>2.26</td>\n",
       "      <td>4.22</td>\n",
       "      <td>0.58</td>\n",
       "      <td>30.26</td>\n",
       "      <td>NaN</td>\n",
       "      <td>NaN</td>\n",
       "      <td>NaN</td>\n",
       "      <td>NaN</td>\n",
       "      <td>NaN</td>\n",
       "      <td>NaN</td>\n",
       "    </tr>\n",
       "    <tr>\n",
       "      <th>8</th>\n",
       "      <td>New Super Mario Bros.</td>\n",
       "      <td>DS</td>\n",
       "      <td>2006</td>\n",
       "      <td>Platform</td>\n",
       "      <td>Nintendo</td>\n",
       "      <td>11.28</td>\n",
       "      <td>9.14</td>\n",
       "      <td>6.50</td>\n",
       "      <td>2.88</td>\n",
       "      <td>29.80</td>\n",
       "      <td>89.0</td>\n",
       "      <td>65.0</td>\n",
       "      <td>8.5</td>\n",
       "      <td>431.0</td>\n",
       "      <td>Nintendo</td>\n",
       "      <td>E</td>\n",
       "    </tr>\n",
       "    <tr>\n",
       "      <th>9</th>\n",
       "      <td>Wii Play</td>\n",
       "      <td>Wii</td>\n",
       "      <td>2006</td>\n",
       "      <td>Misc</td>\n",
       "      <td>Nintendo</td>\n",
       "      <td>13.96</td>\n",
       "      <td>9.18</td>\n",
       "      <td>2.93</td>\n",
       "      <td>2.84</td>\n",
       "      <td>28.92</td>\n",
       "      <td>58.0</td>\n",
       "      <td>41.0</td>\n",
       "      <td>6.6</td>\n",
       "      <td>129.0</td>\n",
       "      <td>Nintendo</td>\n",
       "      <td>E</td>\n",
       "    </tr>\n",
       "  </tbody>\n",
       "</table>\n",
       "</div>"
      ],
      "text/plain": [
       "                       Name Platform Year_of_Release         Genre Publisher  \\\n",
       "0             Verification1      NaN             NaN           NaN       NaN   \n",
       "1             Verification2      fyi             fyi           fyi       fyi   \n",
       "2                Wii Sports      Wii            2006        Sports  Nintendo   \n",
       "3         Super Mario Bros.      NES            1985      Platform  Nintendo   \n",
       "4            Mario Kart Wii      Wii            2008        Racing  Nintendo   \n",
       "5         Wii Sports Resort      Wii            2009        Sports  Nintendo   \n",
       "6  Pokemon Red/Pokemon Blue       GB            1996  Role-Playing  Nintendo   \n",
       "7                    Tetris       GB            1989        Puzzle  Nintendo   \n",
       "8     New Super Mario Bros.       DS            2006      Platform  Nintendo   \n",
       "9                  Wii Play      Wii            2006          Misc  Nintendo   \n",
       "\n",
       "   NA_Sales  EU_Sales  JP_Sales  Other_Sales  Global_Sales  Critic_Score  \\\n",
       "0       NaN       NaN       NaN          NaN           NaN           NaN   \n",
       "1       NaN       NaN       NaN          NaN           NaN           NaN   \n",
       "2     41.36     28.96      3.77         8.45         82.53          76.0   \n",
       "3     29.08      3.58      6.81         0.77         40.24           NaN   \n",
       "4     15.68     12.76      3.79         3.29         35.52          82.0   \n",
       "5     15.61     10.93      3.28         2.95         32.77          80.0   \n",
       "6     11.27      8.89     10.22         1.00         31.37           NaN   \n",
       "7     23.20      2.26      4.22         0.58         30.26           NaN   \n",
       "8     11.28      9.14      6.50         2.88         29.80          89.0   \n",
       "9     13.96      9.18      2.93         2.84         28.92          58.0   \n",
       "\n",
       "   Critic_Count User_Score  User_Count Developer Rating  \n",
       "0           NaN        NaN         NaN       NaN    NaN  \n",
       "1           NaN        NaN         NaN       NaN    NaN  \n",
       "2          51.0          8       322.0  Nintendo      E  \n",
       "3           NaN        NaN         NaN       NaN    NaN  \n",
       "4          73.0        8.3       709.0  Nintendo      E  \n",
       "5          73.0          8       192.0  Nintendo      E  \n",
       "6           NaN        NaN         NaN       NaN    NaN  \n",
       "7           NaN        NaN         NaN       NaN    NaN  \n",
       "8          65.0        8.5       431.0  Nintendo      E  \n",
       "9          41.0        6.6       129.0  Nintendo      E  "
      ]
     },
     "execution_count": 11,
     "metadata": {},
     "output_type": "execute_result"
    },
    {
     "name": "stdout",
     "output_type": "stream",
     "text": [
      "<class 'pandas.core.frame.DataFrame'>\n",
      "RangeIndex: 16409 entries, 0 to 16408\n",
      "Data columns (total 16 columns):\n",
      "Name               16407 non-null object\n",
      "Platform           16408 non-null object\n",
      "Year_of_Release    16141 non-null object\n",
      "Genre              16406 non-null object\n",
      "Publisher          16355 non-null object\n",
      "NA_Sales           16407 non-null float64\n",
      "EU_Sales           16407 non-null float64\n",
      "JP_Sales           16407 non-null float64\n",
      "Other_Sales        16407 non-null float64\n",
      "Global_Sales       16407 non-null float64\n",
      "Critic_Score       8031 non-null float64\n",
      "Critic_Count       8031 non-null float64\n",
      "User_Score         9863 non-null object\n",
      "User_Count         7478 non-null float64\n",
      "Developer          9942 non-null object\n",
      "Rating             9800 non-null object\n",
      "dtypes: float64(8), object(8)\n",
      "memory usage: 1.5+ MB\n"
     ]
    }
   ],
   "source": [
    "sales = pd.read_csv('games_sales_2016.csv') # учебный файл с 16 столбцами\n",
    "sales.head(10)\n",
    "sales.info()"
   ]
  },
  {
   "cell_type": "code",
   "execution_count": 12,
   "metadata": {},
   "outputs": [],
   "source": [
    "def create_dictionary(file='games_sales_2016.csv', n=5):\n",
    "    '''Формирует словарь для поиска по n столбцам. Аргументы (csv-файл, int): file, n.'''\n",
    "    dictionary = {}\n",
    "    with open(file) as f:\n",
    "        for line in f:\n",
    "            line = line.strip().split(',')\n",
    "            if n == 1: dictionary[line[0]] = line[1:]\n",
    "            else:\n",
    "                dictionary[tuple(line[:n])] = line[n:]\n",
    "    return dictionary"
   ]
  },
  {
   "cell_type": "code",
   "execution_count": 13,
   "metadata": {},
   "outputs": [
    {
     "data": {
      "text/plain": [
       "['PC',\n",
       " '2010',\n",
       " 'Strategy',\n",
       " 'Take-Two Interactive',\n",
       " '0.98',\n",
       " '0.52',\n",
       " '0',\n",
       " '0.17',\n",
       " '1.68',\n",
       " '90',\n",
       " '70',\n",
       " '7.9',\n",
       " '2280',\n",
       " 'Firaxis Games',\n",
       " 'E10+']"
      ]
     },
     "execution_count": 13,
     "metadata": {},
     "output_type": "execute_result"
    }
   ],
   "source": [
    "create_dictionary(n=1).get(\"Sid Meier's Civilization V\")"
   ]
  },
  {
   "cell_type": "code",
   "execution_count": 14,
   "metadata": {},
   "outputs": [
    {
     "data": {
      "text/plain": [
       "['Take-Two Interactive',\n",
       " '0.98',\n",
       " '0.52',\n",
       " '0',\n",
       " '0.17',\n",
       " '1.68',\n",
       " '90',\n",
       " '70',\n",
       " '7.9',\n",
       " '2280',\n",
       " 'Firaxis Games',\n",
       " 'E10+']"
      ]
     },
     "execution_count": 14,
     "metadata": {},
     "output_type": "execute_result"
    },
    {
     "data": {
      "text/plain": [
       "'Not found'"
      ]
     },
     "execution_count": 14,
     "metadata": {},
     "output_type": "execute_result"
    }
   ],
   "source": [
    "new_dict_4 = create_dictionary(n=4)\n",
    "element_to_find = (\"Sid Meier's Civilization V\", 'PC', '2010', 'Strategy')\n",
    "mismatch = ('Verification1', '0', '0', '0')\n",
    "\n",
    "new_dict_4.get(element_to_find)\n",
    "new_dict_4.get(mismatch, 'Not found')"
   ]
  }
 ],
 "metadata": {
  "kernelspec": {
   "display_name": "Python 3",
   "language": "python",
   "name": "python3"
  },
  "language_info": {
   "codemirror_mode": {
    "name": "ipython",
    "version": 3
   },
   "file_extension": ".py",
   "mimetype": "text/x-python",
   "name": "python",
   "nbconvert_exporter": "python",
   "pygments_lexer": "ipython3",
   "version": "3.7.3"
  }
 },
 "nbformat": 4,
 "nbformat_minor": 2
}
