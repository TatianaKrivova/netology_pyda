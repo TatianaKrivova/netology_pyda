{
 "cells": [
  {
   "cell_type": "markdown",
   "metadata": {},
   "source": [
    "## Домашнее задание к занятию №2 от 05.08.2019 г. «Циклы. Типы данных. Коллекции данных»\n",
    "\n",
    "ФИО: Кривова Татьяна Сергеевна"
   ]
  },
  {
   "cell_type": "markdown",
   "metadata": {},
   "source": [
    "## Задание 1"
   ]
  },
  {
   "cell_type": "markdown",
   "metadata": {},
   "source": [
    "Дан список с визитами по городам и странам. \n",
    "Напишите код, который возвращает отфильтрованный список geo_logs, содержащий только визиты из России."
   ]
  },
  {
   "cell_type": "code",
   "execution_count": 1,
   "metadata": {},
   "outputs": [],
   "source": [
    "geo_logs = [\n",
    "    {'visit1': ['Москва', 'Россия']},\n",
    "    {'visit2': ['Дели', 'Индия']},\n",
    "    {'visit3': ['Владимир', 'Россия']},\n",
    "    {'visit4': ['Лиссабон', 'Португалия']},\n",
    "    {'visit5': ['Париж', 'Франция']},\n",
    "    {'visit6': ['Лиссабон', 'Португалия']},\n",
    "    {'visit7': ['Тула', 'Россия']},\n",
    "    {'visit8': ['Тула', 'Россия']},\n",
    "    {'visit9': ['Курск', 'Россия']},\n",
    "    {'visit10': ['Архангельск', 'Россия']}\n",
    "]"
   ]
  },
  {
   "cell_type": "code",
   "execution_count": 2,
   "metadata": {},
   "outputs": [
    {
     "name": "stdout",
     "output_type": "stream",
     "text": [
      "Список визитов из России: ['visit1', 'visit3', 'visit7', 'visit8', 'visit9', 'visit10']\n",
      "\n",
      "С расшифровкой:\n",
      "[{'visit1': ['Москва', 'Россия']}, {'visit3': ['Владимир', 'Россия']}, {'visit7': ['Тула', 'Россия']}, {'visit8': ['Тула', 'Россия']}, {'visit9': ['Курск', 'Россия']}, {'visit10': ['Архангельск', 'Россия']}]\n"
     ]
    }
   ],
   "source": [
    "# Решение №1: создаю новые списки (filtered_visits и filtered_geo_logs) и добавляю в них\n",
    "# требуемые элементы из первоначального списка\n",
    "spisok = geo_logs.copy()\n",
    "filtered_geo_logs, filtered_visits = [], []\n",
    "\n",
    "for element in spisok:\n",
    "    if list(element.values())[0][1] == 'Россия':\n",
    "        filtered_geo_logs.append(dict(element.items()))\n",
    "        filtered_visits.append(list(element.keys())[0])\n",
    "\n",
    "print(f'Список визитов из России: {filtered_visits}\\n\\nС расшифровкой:\\n{filtered_geo_logs}')"
   ]
  },
  {
   "cell_type": "code",
   "execution_count": 3,
   "metadata": {},
   "outputs": [
    {
     "name": "stdout",
     "output_type": "stream",
     "text": [
      "Отфильтрованный исходный список:\n",
      "[{'visit1': ['Москва', 'Россия']}, {'visit3': ['Владимир', 'Россия']}, {'visit7': ['Тула', 'Россия']}, {'visit8': ['Тула', 'Россия']}, {'visit9': ['Курск', 'Россия']}, {'visit10': ['Архангельск', 'Россия']}]\n"
     ]
    }
   ],
   "source": [
    "# Решение №2: из исходного списка удаляю элементы с другими странами \n",
    "spisok = geo_logs.copy()\n",
    "\n",
    "for element in reversed(spisok): # двигаться по списку с конца\n",
    "    if list(element.values())[0][1] != 'Россия': spisok.remove(element)\n",
    "\n",
    "# Решение №3: использую enumerate  \n",
    "#for index, element in reversed(list(enumerate(spisok))):\n",
    "#    if list(spisok[index].values())[0][1] != 'Россия':\n",
    "#        not_used_item = spisok.pop(index)\n",
    "\n",
    "print(f'Отфильтрованный исходный список:\\n{spisok}')"
   ]
  },
  {
   "cell_type": "markdown",
   "metadata": {},
   "source": [
    "## Задание 2"
   ]
  },
  {
   "cell_type": "markdown",
   "metadata": {},
   "source": [
    "Выведите на экран все уникальные гео-ID из значений словаря ids. Т. е. список вида [213, 15, 54, 119, 98, 35]"
   ]
  },
  {
   "cell_type": "code",
   "execution_count": 4,
   "metadata": {},
   "outputs": [],
   "source": [
    "ids = {'user1': [213, 213, 213, 15, 213], \n",
    "       'user2': [54, 54, 119, 119, 119], \n",
    "       'user3': [213, 98, 98, 35]}"
   ]
  },
  {
   "cell_type": "code",
   "execution_count": 5,
   "metadata": {},
   "outputs": [
    {
     "data": {
      "text/plain": [
       "[213, 15, 54, 119, 98, 35]"
      ]
     },
     "execution_count": 5,
     "metadata": {},
     "output_type": "execute_result"
    }
   ],
   "source": [
    "new_list = []\n",
    "for element in list(ids.values()):\n",
    "    for number in element:\n",
    "        if number not in new_list: new_list.append(number)\n",
    "        \n",
    "new_list\n",
    "\n",
    "# вместо if можно использовать set, если не важна последовательность элементов в финальном списке:\n",
    "#sorted(list(set(new_list)))"
   ]
  },
  {
   "cell_type": "markdown",
   "metadata": {},
   "source": [
    "## Задание 3"
   ]
  },
  {
   "cell_type": "markdown",
   "metadata": {},
   "source": [
    "Дан список поисковых запросов. Получить распределение количества слов в них. \n",
    "Т. е. поисковых запросов из одного - слова 5%, из двух - 7%, из трех - 3% и т.д."
   ]
  },
  {
   "cell_type": "code",
   "execution_count": 6,
   "metadata": {},
   "outputs": [],
   "source": [
    "queries = [\n",
    "    'смотреть сериалы онлайн',\n",
    "    'новости спорта',\n",
    "    'афиша кино',\n",
    "    'курс доллара',\n",
    "    'сериалы этим летом',\n",
    "    'курс по питону',\n",
    "    'сериалы про спорт',\n",
    "    '  страны, в которых живут',\n",
    "    'страны, в которых живут кенкуру  ',\n",
    "    'страны, в которых живут кенкуру и пингвины',\n",
    "]"
   ]
  },
  {
   "cell_type": "code",
   "execution_count": 7,
   "metadata": {},
   "outputs": [
    {
     "name": "stdout",
     "output_type": "stream",
     "text": [
      "Распределение количества слов в поисковых запросах (количество слов - %):\n",
      "\tкол-во слов 2 --> 30.0%\n",
      "\tкол-во слов 3 --> 40.0%\n",
      "\tкол-во слов 4 --> 10.0%\n",
      "\tкол-во слов 5 --> 10.0%\n",
      "\tкол-во слов 7 --> 10.0%\n"
     ]
    }
   ],
   "source": [
    "words_number = []\n",
    "distribution = {} # здесь можно задать начальные значения {1: 0, 2: 0, 3: 0, 4: 0, 5: 0, 6: 0, 7: 0}\n",
    "hundred_percent = len(queries)\n",
    "print('Распределение количества слов в поисковых запросах (количество слов - %):')\n",
    "\n",
    "# определяю кол-во слов (кол-во пробелов +1) в каждом запросе и сохраняю в список words_number\n",
    "for query in queries:\n",
    "    words_number.append(query.strip().count(' ') + 1)\n",
    "\n",
    "# сортирую список words_number, считаю % запросов с одинаковым кол-вом слов и добавляю в словарь distribution\n",
    "for element in sorted(words_number):\n",
    "    distribution[element] = round(sorted(words_number).count(element)*100/hundred_percent, 2)\n",
    "\n",
    "# вывожу ключи(кол-во слов) и значения(%) из словаря \n",
    "for key, value in distribution.items():\n",
    "    print(f'\\tкол-во слов {key} --> {value}%')"
   ]
  },
  {
   "cell_type": "markdown",
   "metadata": {},
   "source": [
    "## Задание 4"
   ]
  },
  {
   "cell_type": "markdown",
   "metadata": {},
   "source": [
    "Дана статистика рекламных каналов по объемам продаж. Напишите скрипт, который возвращает название канала с максимальным объемом.\n",
    "Т. е. в данном примере скрипт должен возвращать 'yandex'."
   ]
  },
  {
   "cell_type": "code",
   "execution_count": 11,
   "metadata": {},
   "outputs": [],
   "source": [
    "stats = {'facebook': 55, 'yandex': 120, 'vk': 115, 'google': 99, 'email': 42, 'ok': 98}"
   ]
  },
  {
   "cell_type": "code",
   "execution_count": 12,
   "metadata": {},
   "outputs": [
    {
     "name": "stdout",
     "output_type": "stream",
     "text": [
      "Название канала с максимальным объемом:\n",
      "yandex\n"
     ]
    }
   ],
   "source": [
    "print('Название канала с максимальным объемом:')\n",
    "#stats['XXX-adults'] = 120 # если в словаре будет несколько каналов с максимальным объемом - тоже работает корректно\n",
    "\n",
    "for key, value in stats.items():\n",
    "    if value == max(stats.values()): print(key)"
   ]
  },
  {
   "cell_type": "markdown",
   "metadata": {},
   "source": [
    "## Задание 5"
   ]
  },
  {
   "cell_type": "markdown",
   "metadata": {},
   "source": [
    "Дан поток логов по количеству просмотренных страниц для каждого пользователя. Список отсортирован по ID пользователя. Вам необходимо написать алгоритм, который считает среднее значение просмотров на пользователя. \n",
    "Т. е. надо посчитать отношение суммы всех просмотров к количеству уникальных пользователей."
   ]
  },
  {
   "cell_type": "code",
   "execution_count": 13,
   "metadata": {},
   "outputs": [],
   "source": [
    "stream = [\n",
    "    '2018-01-01,user1,3',\n",
    "    '2018-01-07,user1,4',\n",
    "    '2018-03-29,user1,1',\n",
    "    '2018-04-04,user1,13',\n",
    "    '2018-01-05,user2,7',\n",
    "    '2018-06-14,user3,4',\n",
    "    '2018-07-02,user3,10',\n",
    "    '2018-03-21,user4,19',\n",
    "    '2018-03-22,user4,4',\n",
    "    '2018-04-22,user4,8',\n",
    "    '2018-05-03,user4,9',\n",
    "    '2018-05-11,user4,11',\n",
    "]"
   ]
  },
  {
   "cell_type": "code",
   "execution_count": 14,
   "metadata": {},
   "outputs": [
    {
     "name": "stdout",
     "output_type": "stream",
     "text": [
      "Среднее значение просмотров на пользователя: 23\n"
     ]
    }
   ],
   "source": [
    "unique_users = set()\n",
    "counter = 0\n",
    "\n",
    "for line in stream:\n",
    "    counter += int(line.split(',')[2]) # суммирую просмотры\n",
    "    unique_users.add(line.split(',')[1]) # наполняю множество (уникальных) пользователей\n",
    "\n",
    "print(f'Среднее значение просмотров на пользователя: {round(counter/len(unique_users))}')"
   ]
  },
  {
   "cell_type": "markdown",
   "metadata": {},
   "source": [
    "## Задание 6"
   ]
  },
  {
   "cell_type": "markdown",
   "metadata": {},
   "source": [
    "Дана статистика рекламных кампаний по дням. Напишите алгоритм, который по паре дата-кампания ищет значение численного столбца. \n",
    "Т. е. для даты '2018-01-01' и 'google' нужно получить число 25. \n",
    "Считайте, что все комбинации дата-кампания уникальны."
   ]
  },
  {
   "cell_type": "code",
   "execution_count": 15,
   "metadata": {},
   "outputs": [],
   "source": [
    "stats = [\n",
    "    ['2018-01-01', 'google', 25],\n",
    "    ['2018-01-01', 'yandex', 65],\n",
    "    ['2018-01-01', 'market', 89],\n",
    "    ['2018-01-02', 'google', 574],\n",
    "    ['2018-01-02', 'yandex', 249],\n",
    "    ['2018-01-02', 'market', 994],\n",
    "    ['2018-01-03', 'google', 1843],\n",
    "    ['2018-01-03', 'yandex', 1327],\n",
    "    ['2018-01-03', 'market', 1764]\n",
    "]"
   ]
  },
  {
   "cell_type": "code",
   "execution_count": 16,
   "metadata": {},
   "outputs": [
    {
     "name": "stdout",
     "output_type": "stream",
     "text": [
      "25\n"
     ]
    }
   ],
   "source": [
    "def find_number(day = '2018-01-01', company_name = 'yandex'):\n",
    "    '''По параметрам дата-компания возвращает значение численного столбца. Аргументы (str): day, company_name.'''\n",
    "    spisok = stats.copy()\n",
    "    matches = 0 \n",
    "    \n",
    "    for element in spisok:\n",
    "        if element[0] == day and element[1] == company_name: \n",
    "            print(element[2])\n",
    "            matches += 1 # для параметров дата-компания считает количество совпадений в списке\n",
    "    if matches == 0: print('Для заданных параметров число не найдено')\n",
    "\n",
    "\n",
    "find_number('2018-01-01', 'google') # вызов функции"
   ]
  },
  {
   "cell_type": "code",
   "execution_count": 17,
   "metadata": {},
   "outputs": [
    {
     "name": "stdout",
     "output_type": "stream",
     "text": [
      "Help on function find_number in module __main__:\n",
      "\n",
      "find_number(day='2018-01-01', company_name='yandex')\n",
      "    По параметрам дата-компания возвращает значение численного столбца. Аргументы (str): day, company_name.\n",
      "\n"
     ]
    }
   ],
   "source": [
    "help(find_number)"
   ]
  }
 ],
 "metadata": {
  "kernelspec": {
   "display_name": "Python 3",
   "language": "python",
   "name": "python3"
  },
  "language_info": {
   "codemirror_mode": {
    "name": "ipython",
    "version": 3
   },
   "file_extension": ".py",
   "mimetype": "text/x-python",
   "name": "python",
   "nbconvert_exporter": "python",
   "pygments_lexer": "ipython3",
   "version": "3.7.3"
  }
 },
 "nbformat": 4,
 "nbformat_minor": 2
}
