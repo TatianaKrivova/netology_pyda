{
 "cells": [
  {
   "cell_type": "markdown",
   "metadata": {},
   "source": [
    "## Домашнее задание от 07.03.2020 г. «Практическое занятие. Разбор кейсов реальных бизнесов. Поиск инсайтов в данных»\n",
    "ФИО: Кривова Татьяна Сергеевна"
   ]
  },
  {
   "cell_type": "markdown",
   "metadata": {},
   "source": [
    "**Датасет: Цены на недвижимость**. Для целей решения задач необходимо условное деление набора данных на категории по количеству комнат."
   ]
  },
  {
   "cell_type": "code",
   "execution_count": 1,
   "metadata": {},
   "outputs": [],
   "source": [
    "import pandas as pd"
   ]
  },
  {
   "cell_type": "code",
   "execution_count": 2,
   "metadata": {},
   "outputs": [],
   "source": [
    "dataset = pd.read_excel('House prices_ASB8.xlsx')"
   ]
  },
  {
   "cell_type": "code",
   "execution_count": 3,
   "metadata": {},
   "outputs": [
    {
     "name": "stdout",
     "output_type": "stream",
     "text": [
      "<class 'pandas.core.frame.DataFrame'>\n",
      "RangeIndex: 5000 entries, 0 to 4999\n",
      "Data columns (total 5 columns):\n",
      "No           5000 non-null int64\n",
      "Rooms        5000 non-null int64\n",
      "DistMetro    5000 non-null int64\n",
      "Area         5000 non-null int64\n",
      "Price        5000 non-null int64\n",
      "dtypes: int64(5)\n",
      "memory usage: 195.4 KB\n"
     ]
    },
    {
     "data": {
      "text/html": [
       "<div>\n",
       "<style scoped>\n",
       "    .dataframe tbody tr th:only-of-type {\n",
       "        vertical-align: middle;\n",
       "    }\n",
       "\n",
       "    .dataframe tbody tr th {\n",
       "        vertical-align: top;\n",
       "    }\n",
       "\n",
       "    .dataframe thead th {\n",
       "        text-align: right;\n",
       "    }\n",
       "</style>\n",
       "<table border=\"1\" class=\"dataframe\">\n",
       "  <thead>\n",
       "    <tr style=\"text-align: right;\">\n",
       "      <th></th>\n",
       "      <th>No</th>\n",
       "      <th>Rooms</th>\n",
       "      <th>DistMetro</th>\n",
       "      <th>Area</th>\n",
       "      <th>Price</th>\n",
       "    </tr>\n",
       "  </thead>\n",
       "  <tbody>\n",
       "    <tr>\n",
       "      <th>0</th>\n",
       "      <td>1</td>\n",
       "      <td>3</td>\n",
       "      <td>12</td>\n",
       "      <td>56</td>\n",
       "      <td>9396</td>\n",
       "    </tr>\n",
       "    <tr>\n",
       "      <th>1</th>\n",
       "      <td>2</td>\n",
       "      <td>2</td>\n",
       "      <td>4</td>\n",
       "      <td>54</td>\n",
       "      <td>9785</td>\n",
       "    </tr>\n",
       "    <tr>\n",
       "      <th>2</th>\n",
       "      <td>3</td>\n",
       "      <td>1</td>\n",
       "      <td>2</td>\n",
       "      <td>31</td>\n",
       "      <td>5783</td>\n",
       "    </tr>\n",
       "    <tr>\n",
       "      <th>3</th>\n",
       "      <td>4</td>\n",
       "      <td>2</td>\n",
       "      <td>8</td>\n",
       "      <td>48</td>\n",
       "      <td>9123</td>\n",
       "    </tr>\n",
       "    <tr>\n",
       "      <th>4</th>\n",
       "      <td>5</td>\n",
       "      <td>1</td>\n",
       "      <td>11</td>\n",
       "      <td>31</td>\n",
       "      <td>5662</td>\n",
       "    </tr>\n",
       "  </tbody>\n",
       "</table>\n",
       "</div>"
      ],
      "text/plain": [
       "   No  Rooms  DistMetro  Area  Price\n",
       "0   1      3         12    56   9396\n",
       "1   2      2          4    54   9785\n",
       "2   3      1          2    31   5783\n",
       "3   4      2          8    48   9123\n",
       "4   5      1         11    31   5662"
      ]
     },
     "execution_count": 3,
     "metadata": {},
     "output_type": "execute_result"
    }
   ],
   "source": [
    "dataset.info()\n",
    "dataset.head()"
   ]
  },
  {
   "cell_type": "code",
   "execution_count": 4,
   "metadata": {},
   "outputs": [
    {
     "data": {
      "text/plain": [
       "array([3, 2, 1], dtype=int64)"
      ]
     },
     "execution_count": 4,
     "metadata": {},
     "output_type": "execute_result"
    },
    {
     "data": {
      "text/plain": [
       "2    1690\n",
       "1    1657\n",
       "3    1653\n",
       "Name: Rooms, dtype: int64"
      ]
     },
     "execution_count": 4,
     "metadata": {},
     "output_type": "execute_result"
    }
   ],
   "source": [
    "dataset.Rooms.unique()\n",
    "dataset.Rooms.value_counts()"
   ]
  },
  {
   "cell_type": "code",
   "execution_count": 5,
   "metadata": {},
   "outputs": [],
   "source": [
    "# Разделим dataset по количеству комнат:\n",
    "\n",
    "category_1 = dataset[dataset.Rooms == 1] # category_1.shape --> (1657, 5)\n",
    "category_2 = dataset[dataset.Rooms == 2] # category_2.shape --> (1690, 5)\n",
    "category_3 = dataset[dataset.Rooms == 3] # category_3.shape --> (1653, 5)"
   ]
  },
  {
   "cell_type": "markdown",
   "metadata": {},
   "source": [
    "**Задание 1**. Построить гистограмму. Постройте гистограммы распределения цен для каждой категории (по количеству комнат).\n",
    "Какие выводы можно сделать на основе полученных гистограмм?"
   ]
  },
  {
   "cell_type": "code",
   "execution_count": 6,
   "metadata": {},
   "outputs": [],
   "source": [
    "import numpy as np\n",
    "\n",
    "import scipy.stats as sts\n",
    "import statistics\n",
    "\n",
    "import matplotlib.pyplot as plt\n",
    "import seaborn as sns\n",
    "\n",
    "from pylab import rcParams"
   ]
  },
  {
   "cell_type": "code",
   "execution_count": 7,
   "metadata": {},
   "outputs": [
    {
     "data": {
      "text/plain": [
       "(array([  1.,   2.,  16.,  19.,  38.,  66.,  74., 107., 124., 161., 159.,\n",
       "        180., 146., 133., 106., 103.,  69.,  49.,  38.,  28.,  19.,  13.,\n",
       "          3.,   2.,   1.]),\n",
       " array([2825.  , 3045.64, 3266.28, 3486.92, 3707.56, 3928.2 , 4148.84,\n",
       "        4369.48, 4590.12, 4810.76, 5031.4 , 5252.04, 5472.68, 5693.32,\n",
       "        5913.96, 6134.6 , 6355.24, 6575.88, 6796.52, 7017.16, 7237.8 ,\n",
       "        7458.44, 7679.08, 7899.72, 8120.36, 8341.  ]),\n",
       " <a list of 25 Patch objects>)"
      ]
     },
     "execution_count": 7,
     "metadata": {},
     "output_type": "execute_result"
    },
    {
     "data": {
      "text/plain": [
       "Text(0, 0.5, 'Frequency')"
      ]
     },
     "execution_count": 7,
     "metadata": {},
     "output_type": "execute_result"
    },
    {
     "data": {
      "text/plain": [
       "(array([  1.,   2.,   5.,  10.,  25.,  59.,  74., 107., 114., 116., 142.,\n",
       "        157., 140., 152., 153., 108., 116.,  75.,  45.,  39.,  28.,   7.,\n",
       "         10.,   3.,   2.]),\n",
       " array([ 4427.  ,  4763.24,  5099.48,  5435.72,  5771.96,  6108.2 ,\n",
       "         6444.44,  6780.68,  7116.92,  7453.16,  7789.4 ,  8125.64,\n",
       "         8461.88,  8798.12,  9134.36,  9470.6 ,  9806.84, 10143.08,\n",
       "        10479.32, 10815.56, 11151.8 , 11488.04, 11824.28, 12160.52,\n",
       "        12496.76, 12833.  ]),\n",
       " <a list of 25 Patch objects>)"
      ]
     },
     "execution_count": 7,
     "metadata": {},
     "output_type": "execute_result"
    },
    {
     "data": {
      "text/plain": [
       "Text(0.5, 1.0, 'Гистограммы распределения цен для каждой категории (по количеству комнат: 1, 2 и 3-к.)')"
      ]
     },
     "execution_count": 7,
     "metadata": {},
     "output_type": "execute_result"
    },
    {
     "data": {
      "text/plain": [
       "(array([  2.,   6.,   9.,  19.,  42.,  55.,  66.,  97., 138., 123., 153.,\n",
       "        156., 156.,  98., 116., 107.,  88.,  76.,  43.,  34.,  29.,  17.,\n",
       "          8.,  10.,   5.]),\n",
       " array([ 6338.  ,  6789.04,  7240.08,  7691.12,  8142.16,  8593.2 ,\n",
       "         9044.24,  9495.28,  9946.32, 10397.36, 10848.4 , 11299.44,\n",
       "        11750.48, 12201.52, 12652.56, 13103.6 , 13554.64, 14005.68,\n",
       "        14456.72, 14907.76, 15358.8 , 15809.84, 16260.88, 16711.92,\n",
       "        17162.96, 17614.  ]),\n",
       " <a list of 25 Patch objects>)"
      ]
     },
     "execution_count": 7,
     "metadata": {},
     "output_type": "execute_result"
    },
    {
     "data": {
      "image/png": "[encoded data removed]",
      "text/plain": [
       "<Figure size 1512x432 with 3 Axes>"
      ]
     },
     "metadata": {},
     "output_type": "display_data"
    }
   ],
   "source": [
    "rcParams['figure.figsize'] = 21,6\n",
    "fig = plt.figure() # Графики для параметра Price\n",
    "\n",
    "ax1 = fig.add_subplot(1,3,1)\n",
    "ax1.hist(category_1.Price, bins=25, color='royalblue', edgecolor='navy', linewidth=1.0)\n",
    "ax1.grid(True)\n",
    "plt.ylabel('Frequency')\n",
    "\n",
    "ax2 = fig.add_subplot(1,3,2)\n",
    "ax2.hist(category_2.Price, bins=25, color='lightcoral', edgecolor='brown', linewidth=1.0)\n",
    "ax2.grid(True)\n",
    "plt.title('Гистограммы распределения цен для каждой категории (по количеству комнат: 1, 2 и 3-к.)')\n",
    "\n",
    "ax3 = fig.add_subplot(1,3,3)\n",
    "ax3.hist(category_3.Price, bins=25, color='seagreen', edgecolor='darkgreen', linewidth=1.0)\n",
    "ax3.grid(True)\n",
    "\n",
    "plt.show()"
   ]
  },
  {
   "cell_type": "markdown",
   "metadata": {},
   "source": [
    "*Полученные графики визуально похожи на нормальное распределение. Далее сделаем проверки:* \n",
    "\n",
    "*sts.normaltest - tests the null hypothesis that a sample comes from a normal distribution;*\n",
    "\n",
    "*sts.skewtest - tests the null hypothesis that the skewness (асимметрия/перекос) of the population that the sample was drawn from is the same as that of a corresponding normal distribution;*\n",
    "\n",
    "*sts.kurtosistest - tests the null hypothesis that the kurtosis (эксцесс) of the population from which the sample was drawn is that of the normal distribution.*\n",
    "\n",
    "*На графиках видны интервалы цен и объем предложений (количество квартир по категориям).*\n",
    "*Также сравним основные статистики для каждой категории недвижимости:*"
   ]
  },
  {
   "cell_type": "code",
   "execution_count": 8,
   "metadata": {},
   "outputs": [
    {
     "data": {
      "text/plain": [
       "count    1657.000000\n",
       "mean     5363.285456\n",
       "std       883.462694\n",
       "min      2825.000000\n",
       "25%      4758.000000\n",
       "50%      5328.000000\n",
       "75%      5951.000000\n",
       "max      8341.000000\n",
       "Name: Price, dtype: float64"
      ]
     },
     "execution_count": 8,
     "metadata": {},
     "output_type": "execute_result"
    }
   ],
   "source": [
    "# Основные статистики для 1-к.\n",
    "category_1.Price.describe()"
   ]
  },
  {
   "cell_type": "code",
   "execution_count": 9,
   "metadata": {},
   "outputs": [
    {
     "data": {
      "text/plain": [
       "count     1690.000000\n",
       "mean      8547.268047\n",
       "std       1369.580793\n",
       "min       4427.000000\n",
       "25%       7531.500000\n",
       "50%       8534.500000\n",
       "75%       9525.750000\n",
       "max      12833.000000\n",
       "Name: Price, dtype: float64"
      ]
     },
     "execution_count": 9,
     "metadata": {},
     "output_type": "execute_result"
    }
   ],
   "source": [
    "# Основные статистики для 2-к.\n",
    "category_2.Price.describe()"
   ]
  },
  {
   "cell_type": "code",
   "execution_count": 10,
   "metadata": {},
   "outputs": [
    {
     "data": {
      "text/plain": [
       "count     1653.000000\n",
       "mean     11749.978221\n",
       "std       1959.611884\n",
       "min       6338.000000\n",
       "25%      10320.000000\n",
       "50%      11639.000000\n",
       "75%      13123.000000\n",
       "max      17614.000000\n",
       "Name: Price, dtype: float64"
      ]
     },
     "execution_count": 10,
     "metadata": {},
     "output_type": "execute_result"
    }
   ],
   "source": [
    "# Основные статистики для 3-к.\n",
    "category_3.Price.describe()"
   ]
  },
  {
   "cell_type": "markdown",
   "metadata": {},
   "source": [
    "*Сравним Средние значения mean: category_1 (5363.285456) < category_2 (8547.268047) < category_3 (11749.978221)*\n",
    "\n",
    "*Сравним Стандартные отклонения std: category_1 (883.462694) < category_2 (1369.580793) < category_3 (1959.611884)*"
   ]
  },
  {
   "cell_type": "code",
   "execution_count": 11,
   "metadata": {},
   "outputs": [
    {
     "data": {
      "text/plain": [
       "<matplotlib.axes._subplots.AxesSubplot at 0xa385bb0>"
      ]
     },
     "execution_count": 11,
     "metadata": {},
     "output_type": "execute_result"
    },
    {
     "data": {
      "text/plain": [
       "Text(0.5, 1.0, 'Частотный график для 1-к. (sns.distplot)')"
      ]
     },
     "execution_count": 11,
     "metadata": {},
     "output_type": "execute_result"
    },
    {
     "data": {
      "text/plain": [
       "Text(0.5, 0, 'Price')"
      ]
     },
     "execution_count": 11,
     "metadata": {},
     "output_type": "execute_result"
    },
    {
     "data": {
      "text/plain": [
       "Text(0, 0.5, 'Frequency')"
      ]
     },
     "execution_count": 11,
     "metadata": {},
     "output_type": "execute_result"
    },
    {
     "data": {
      "text/plain": [
       "(2700, 8400)"
      ]
     },
     "execution_count": 11,
     "metadata": {},
     "output_type": "execute_result"
    },
    {
     "data": {
      "text/plain": [
       "[<matplotlib.lines.Line2D at 0xa3d72f0>]"
      ]
     },
     "execution_count": 11,
     "metadata": {},
     "output_type": "execute_result"
    },
    {
     "data": {
      "text/plain": [
       "<matplotlib.legend.Legend at 0x922ed30>"
      ]
     },
     "execution_count": 11,
     "metadata": {},
     "output_type": "execute_result"
    },
    {
     "data": {
      "image/png": "[encoded data removed]",
      "text/plain": [
       "<Figure size 648x432 with 1 Axes>"
      ]
     },
     "metadata": {},
     "output_type": "display_data"
    }
   ],
   "source": [
    "rcParams['figure.figsize'] = 9,6\n",
    "# Частотный график для 1-к. и сравнение с нормальным распределением\n",
    "sns.distplot(category_1.Price, bins=25, color=\"royalblue\", label='category_1')\n",
    "\n",
    "plt.title('Частотный график для 1-к. (sns.distplot)')\n",
    "plt.grid(True)\n",
    "plt.xlabel('Price')\n",
    "plt.ylabel('Frequency')\n",
    "plt.xlim(2700,8400)\n",
    "\n",
    "mu = round(statistics.mean(category_1.Price), 3) # Среднее значение\n",
    "sigma = round(statistics.stdev(category_1.Price), 3) # Стандартное отклонение\n",
    "\n",
    "norm_rv = sts.norm(loc=mu, scale=sigma) # Random variates\n",
    "x = np.linspace(2700,8400,1000) \n",
    "pdf = norm_rv.pdf(x) # Probability density function\n",
    "\n",
    "plt.plot(x, pdf, color='red', linestyle='dashed', linewidth=2, label='norm pdf') # График нормального распределения\n",
    "plt.legend()"
   ]
  },
  {
   "cell_type": "code",
   "execution_count": 12,
   "metadata": {},
   "outputs": [
    {
     "data": {
      "text/plain": [
       "(NormaltestResult(statistic=14.110992074713494, pvalue=0.0008626547219689426),\n",
       " SkewtestResult(statistic=3.3875038675531335, pvalue=0.0007053172275735763),\n",
       " KurtosistestResult(statistic=-1.623517669145013, pvalue=0.10447878935205498))"
      ]
     },
     "execution_count": 12,
     "metadata": {},
     "output_type": "execute_result"
    },
    {
     "data": {
      "text/plain": [
       "(NormaltestResult(statistic=1.3612053811366127, pvalue=0.5063117510748102),\n",
       " SkewtestResult(statistic=0.32917526966958216, pvalue=0.7420232142102305),\n",
       " KurtosistestResult(statistic=-1.1193073853837339, pvalue=0.2630090261800845))"
      ]
     },
     "execution_count": 12,
     "metadata": {},
     "output_type": "execute_result"
    }
   ],
   "source": [
    "sts.normaltest(category_1.Price), sts.skewtest(category_1.Price), sts.kurtosistest(category_1.Price)\n",
    "#т.к. pvalue в NormaltestResult < 0.05 ==> category_1.Price не соответствует нормальному распределению\n",
    "\n",
    "x = sts.norm.rvs(loc=mu, scale=sigma, size=500) # проверка\n",
    "sts.normaltest(x), sts.skewtest(x), sts.kurtosistest(x)"
   ]
  },
  {
   "cell_type": "code",
   "execution_count": 13,
   "metadata": {},
   "outputs": [
    {
     "data": {
      "text/plain": [
       "<matplotlib.axes._subplots.AxesSubplot at 0xa420f30>"
      ]
     },
     "execution_count": 13,
     "metadata": {},
     "output_type": "execute_result"
    },
    {
     "data": {
      "text/plain": [
       "Text(0.5, 1.0, 'Частотный график для 2-к. (sns.distplot)')"
      ]
     },
     "execution_count": 13,
     "metadata": {},
     "output_type": "execute_result"
    },
    {
     "data": {
      "text/plain": [
       "Text(0.5, 0, 'Price')"
      ]
     },
     "execution_count": 13,
     "metadata": {},
     "output_type": "execute_result"
    },
    {
     "data": {
      "text/plain": [
       "Text(0, 0.5, 'Frequency')"
      ]
     },
     "execution_count": 13,
     "metadata": {},
     "output_type": "execute_result"
    },
    {
     "data": {
      "text/plain": [
       "(4400, 12900)"
      ]
     },
     "execution_count": 13,
     "metadata": {},
     "output_type": "execute_result"
    },
    {
     "data": {
      "text/plain": [
       "[<matplotlib.lines.Line2D at 0xa443cf0>]"
      ]
     },
     "execution_count": 13,
     "metadata": {},
     "output_type": "execute_result"
    },
    {
     "data": {
      "text/plain": [
       "<matplotlib.legend.Legend at 0xa3d0bd0>"
      ]
     },
     "execution_count": 13,
     "metadata": {},
     "output_type": "execute_result"
    },
    {
     "data": {
      "image/png": "[encoded data removed]",
      "text/plain": [
       "<Figure size 648x432 with 1 Axes>"
      ]
     },
     "metadata": {},
     "output_type": "display_data"
    }
   ],
   "source": [
    "# Частотный график для 2-к. и сравнение с нормальным распределением\n",
    "sns.distplot(category_2.Price, bins=25, color=\"lightcoral\", label='category_2')\n",
    "\n",
    "plt.title('Частотный график для 2-к. (sns.distplot)')\n",
    "plt.grid(True)\n",
    "plt.xlabel('Price')\n",
    "plt.ylabel('Frequency')\n",
    "plt.xlim(4400,12900)\n",
    "\n",
    "mu = round(statistics.mean(category_2.Price), 3) # Среднее значение\n",
    "sigma = round(statistics.stdev(category_2.Price), 3) # Стандартное отклонение\n",
    "\n",
    "norm_rv = sts.norm(loc=mu, scale=sigma) # Random variates\n",
    "x = np.linspace(4400,12900,2000) \n",
    "pdf = norm_rv.pdf(x) # Probability density function\n",
    "\n",
    "plt.plot(x, pdf, color='red', linestyle='dashed', linewidth=2, label='norm pdf') # График нормального распределения\n",
    "plt.legend()"
   ]
  },
  {
   "cell_type": "code",
   "execution_count": 14,
   "metadata": {},
   "outputs": [
    {
     "data": {
      "text/plain": [
       "(NormaltestResult(statistic=22.448512341005518, pvalue=1.334650279306321e-05),\n",
       " SkewtestResult(statistic=1.439584129044409, pvalue=0.14998509248417338),\n",
       " KurtosistestResult(statistic=-4.513990460380811, pvalue=6.361907973699982e-06))"
      ]
     },
     "execution_count": 14,
     "metadata": {},
     "output_type": "execute_result"
    },
    {
     "data": {
      "text/plain": [
       "(NormaltestResult(statistic=0.4296465081510447, pvalue=0.806684005688366),\n",
       " SkewtestResult(statistic=-0.6491448746850829, pvalue=0.5162447387649244),\n",
       " KurtosistestResult(statistic=-0.09087045626127771, pvalue=0.9275955255318169))"
      ]
     },
     "execution_count": 14,
     "metadata": {},
     "output_type": "execute_result"
    }
   ],
   "source": [
    "sts.normaltest(category_2.Price), sts.skewtest(category_2.Price), sts.kurtosistest(category_2.Price)\n",
    "#т.к. pvalue в NormaltestResult < 0.05 ==> category_2.Price не соответствует нормальному распределению\n",
    "\n",
    "x = sts.norm.rvs(loc=mu, scale=sigma, size=500) # проверка\n",
    "sts.normaltest(x), sts.skewtest(x), sts.kurtosistest(x)"
   ]
  },
  {
   "cell_type": "code",
   "execution_count": 15,
   "metadata": {},
   "outputs": [
    {
     "data": {
      "text/plain": [
       "<matplotlib.axes._subplots.AxesSubplot at 0xa481850>"
      ]
     },
     "execution_count": 15,
     "metadata": {},
     "output_type": "execute_result"
    },
    {
     "data": {
      "text/plain": [
       "Text(0.5, 1.0, 'Частотный график для 3-к. (sns.distplot)')"
      ]
     },
     "execution_count": 15,
     "metadata": {},
     "output_type": "execute_result"
    },
    {
     "data": {
      "text/plain": [
       "Text(0.5, 0, 'Price')"
      ]
     },
     "execution_count": 15,
     "metadata": {},
     "output_type": "execute_result"
    },
    {
     "data": {
      "text/plain": [
       "Text(0, 0.5, 'Frequency')"
      ]
     },
     "execution_count": 15,
     "metadata": {},
     "output_type": "execute_result"
    },
    {
     "data": {
      "text/plain": [
       "(6300, 17700)"
      ]
     },
     "execution_count": 15,
     "metadata": {},
     "output_type": "execute_result"
    },
    {
     "data": {
      "text/plain": [
       "[<matplotlib.lines.Line2D at 0xa4bcff0>]"
      ]
     },
     "execution_count": 15,
     "metadata": {},
     "output_type": "execute_result"
    },
    {
     "data": {
      "text/plain": [
       "<matplotlib.legend.Legend at 0xa5729b0>"
      ]
     },
     "execution_count": 15,
     "metadata": {},
     "output_type": "execute_result"
    },
    {
     "data": {
      "image/png": "[encoded data removed]",
      "text/plain": [
       "<Figure size 648x432 with 1 Axes>"
      ]
     },
     "metadata": {},
     "output_type": "display_data"
    }
   ],
   "source": [
    "# Частотный график для 3-к. и сравнение с нормальным распределением\n",
    "sns.distplot(category_3.Price, bins=25, color=\"seagreen\", label='category_3')\n",
    "\n",
    "plt.title('Частотный график для 3-к. (sns.distplot)')\n",
    "plt.grid(True)\n",
    "plt.xlabel('Price')\n",
    "plt.ylabel('Frequency')\n",
    "plt.xlim(6300,17700)\n",
    "\n",
    "mu = round(statistics.mean(category_3.Price), 3) # Среднее значение\n",
    "sigma = round(statistics.stdev(category_3.Price), 3) # Стандартное отклонение\n",
    "\n",
    "norm_rv = sts.norm(loc=mu, scale=sigma) # Random variates\n",
    "x = np.linspace(6300,17700,2000) \n",
    "pdf = norm_rv.pdf(x) # Probability density function\n",
    "\n",
    "plt.plot(x, pdf, color='red', linestyle='dashed', linewidth=2, label='norm pdf') # График нормального распределения\n",
    "plt.legend()"
   ]
  },
  {
   "cell_type": "code",
   "execution_count": 16,
   "metadata": {},
   "outputs": [
    {
     "data": {
      "text/plain": [
       "(NormaltestResult(statistic=18.893774978160177, pvalue=7.893486896015436e-05),\n",
       " SkewtestResult(statistic=3.789497553384616, pvalue=0.00015095229811400921),\n",
       " KurtosistestResult(statistic=-2.129197799889007, pvalue=0.03323789886231242))"
      ]
     },
     "execution_count": 16,
     "metadata": {},
     "output_type": "execute_result"
    },
    {
     "data": {
      "text/plain": [
       "(NormaltestResult(statistic=1.6470695885776336, pvalue=0.4388775675161084),\n",
       " SkewtestResult(statistic=-0.9925448254189501, pvalue=0.3209318243706012),\n",
       " KurtosistestResult(statistic=-0.8135873389573486, pvalue=0.41588139347978326))"
      ]
     },
     "execution_count": 16,
     "metadata": {},
     "output_type": "execute_result"
    }
   ],
   "source": [
    "sts.normaltest(category_3.Price), sts.skewtest(category_3.Price), sts.kurtosistest(category_3.Price)\n",
    "#т.к. pvalue в NormaltestResult < 0.05 ==> category_3.Price не соответствует нормальному распределению\n",
    "\n",
    "x = sts.norm.rvs(loc=mu, scale=sigma, size=500) # проверка\n",
    "sts.normaltest(x), sts.skewtest(x), sts.kurtosistest(x)"
   ]
  },
  {
   "cell_type": "markdown",
   "metadata": {},
   "source": [
    "**Задание 2**. Оценить корреляцию. Используя знакомые вам методы, дайте оценку корреляции цены и площади квартиры отдельно по каждой категории (по количеству комнат). Какие выводы можно сделать из этой оценки?"
   ]
  },
  {
   "cell_type": "code",
   "execution_count": 17,
   "metadata": {},
   "outputs": [
    {
     "data": {
      "text/plain": [
       "<matplotlib.collections.PathCollection at 0xa432a10>"
      ]
     },
     "execution_count": 17,
     "metadata": {},
     "output_type": "execute_result"
    },
    {
     "data": {
      "text/plain": [
       "Text(0, 0.5, 'Price')"
      ]
     },
     "execution_count": 17,
     "metadata": {},
     "output_type": "execute_result"
    },
    {
     "data": {
      "text/plain": [
       "<matplotlib.collections.PathCollection at 0xa528d70>"
      ]
     },
     "execution_count": 17,
     "metadata": {},
     "output_type": "execute_result"
    },
    {
     "data": {
      "text/plain": [
       "Text(0.5, 1.0, 'Точечный график зависимости Area и Price для каждой категории (по количеству комнат: 1, 2 и 3-к.)')"
      ]
     },
     "execution_count": 17,
     "metadata": {},
     "output_type": "execute_result"
    },
    {
     "data": {
      "text/plain": [
       "<matplotlib.collections.PathCollection at 0xa5b50d0>"
      ]
     },
     "execution_count": 17,
     "metadata": {},
     "output_type": "execute_result"
    },
    {
     "data": {
      "image/png": "[encoded data removed]",
      "text/plain": [
       "<Figure size 1512x432 with 3 Axes>"
      ]
     },
     "metadata": {},
     "output_type": "display_data"
    }
   ],
   "source": [
    "# Посмотрим корреляцию графически\n",
    "\n",
    "rcParams['figure.figsize'] = 21,6\n",
    "fig = plt.figure() # Графики для параметров Area и Price\n",
    "\n",
    "ax1 = fig.add_subplot(1,3,1)\n",
    "ax1.scatter(category_1.Area, category_1.Price, color=\"darkblue\", marker=\".\")\n",
    "ax1.grid(True)\n",
    "plt.ylabel('Price')\n",
    "\n",
    "ax2 = fig.add_subplot(1,3,2)\n",
    "ax2.scatter(category_2.Area, category_2.Price, color=\"brown\", marker=\".\")\n",
    "ax2.grid(True)\n",
    "plt.title('Точечный график зависимости Area и Price для каждой категории (по количеству комнат: 1, 2 и 3-к.)')\n",
    "\n",
    "ax3 = fig.add_subplot(1,3,3)\n",
    "ax3.scatter(category_3.Area, category_3.Price, color=\"darkgreen\", marker=\".\")\n",
    "ax3.grid(True)\n",
    "\n",
    "plt.show()"
   ]
  },
  {
   "cell_type": "code",
   "execution_count": 18,
   "metadata": {},
   "outputs": [
    {
     "data": {
      "text/plain": [
       "(0.6528312289899473, 7.22443477619161e-202)"
      ]
     },
     "execution_count": 18,
     "metadata": {},
     "output_type": "execute_result"
    },
    {
     "data": {
      "text/plain": [
       "(0.7058155230162519, 5.069577611715952e-255)"
      ]
     },
     "execution_count": 18,
     "metadata": {},
     "output_type": "execute_result"
    },
    {
     "data": {
      "text/plain": [
       "(0.7447234199703188, 2.8421949235510374e-292)"
      ]
     },
     "execution_count": 18,
     "metadata": {},
     "output_type": "execute_result"
    }
   ],
   "source": [
    "# Оценим корреляцию математически: посчитаем коэффициент Пирсона для каждой категории.\n",
    "\n",
    "# коэффициент Пирсона для 1-к.\n",
    "sts.pearsonr(category_1.Area, category_1.Price)\n",
    "\n",
    "# коэффициент Пирсона для 2-к.\n",
    "sts.pearsonr(category_2.Area, category_2.Price)\n",
    "\n",
    "# коэффициент Пирсона для 3-к.\n",
    "sts.pearsonr(category_3.Area, category_3.Price)"
   ]
  },
  {
   "cell_type": "markdown",
   "metadata": {},
   "source": [
    "*Положительный знак коэффициента Пирсона означает, что при возрастании x возрастает y. Числовое значение означает, насколько сильно коррелируют данные: чем ближе к единице, тем выше (линейная) корреляция.*\n",
    "\n",
    "*Сравним полученные Корреляции: category_1 (65.3 %) < category_2 (70.6 %) < category_3 (74.5 %)*\n",
    "\n",
    "*Соответственно, во всех трех категориях при возрастании Area возрастает и Price. Сильнее всего корреляция у 3-к.*"
   ]
  },
  {
   "cell_type": "markdown",
   "metadata": {},
   "source": [
    "**Задание 3**. Рассчитать квартили. Рассчитайте границы квартилей распределения цен на 2х квартиры площадью более 40 кв. метров."
   ]
  },
  {
   "cell_type": "code",
   "execution_count": 19,
   "metadata": {},
   "outputs": [
    {
     "data": {
      "text/plain": [
       "(1446, 5)"
      ]
     },
     "execution_count": 19,
     "metadata": {},
     "output_type": "execute_result"
    },
    {
     "data": {
      "text/html": [
       "<div>\n",
       "<style scoped>\n",
       "    .dataframe tbody tr th:only-of-type {\n",
       "        vertical-align: middle;\n",
       "    }\n",
       "\n",
       "    .dataframe tbody tr th {\n",
       "        vertical-align: top;\n",
       "    }\n",
       "\n",
       "    .dataframe thead th {\n",
       "        text-align: right;\n",
       "    }\n",
       "</style>\n",
       "<table border=\"1\" class=\"dataframe\">\n",
       "  <thead>\n",
       "    <tr style=\"text-align: right;\">\n",
       "      <th></th>\n",
       "      <th>No</th>\n",
       "      <th>Rooms</th>\n",
       "      <th>DistMetro</th>\n",
       "      <th>Area</th>\n",
       "      <th>Price</th>\n",
       "    </tr>\n",
       "  </thead>\n",
       "  <tbody>\n",
       "    <tr>\n",
       "      <th>1</th>\n",
       "      <td>2</td>\n",
       "      <td>2</td>\n",
       "      <td>4</td>\n",
       "      <td>54</td>\n",
       "      <td>9785</td>\n",
       "    </tr>\n",
       "    <tr>\n",
       "      <th>3</th>\n",
       "      <td>4</td>\n",
       "      <td>2</td>\n",
       "      <td>8</td>\n",
       "      <td>48</td>\n",
       "      <td>9123</td>\n",
       "    </tr>\n",
       "    <tr>\n",
       "      <th>7</th>\n",
       "      <td>8</td>\n",
       "      <td>2</td>\n",
       "      <td>12</td>\n",
       "      <td>52</td>\n",
       "      <td>7908</td>\n",
       "    </tr>\n",
       "    <tr>\n",
       "      <th>9</th>\n",
       "      <td>10</td>\n",
       "      <td>2</td>\n",
       "      <td>5</td>\n",
       "      <td>46</td>\n",
       "      <td>8047</td>\n",
       "    </tr>\n",
       "    <tr>\n",
       "      <th>15</th>\n",
       "      <td>16</td>\n",
       "      <td>2</td>\n",
       "      <td>0</td>\n",
       "      <td>49</td>\n",
       "      <td>10305</td>\n",
       "    </tr>\n",
       "  </tbody>\n",
       "</table>\n",
       "</div>"
      ],
      "text/plain": [
       "    No  Rooms  DistMetro  Area  Price\n",
       "1    2      2          4    54   9785\n",
       "3    4      2          8    48   9123\n",
       "7    8      2         12    52   7908\n",
       "9   10      2          5    46   8047\n",
       "15  16      2          0    49  10305"
      ]
     },
     "execution_count": 19,
     "metadata": {},
     "output_type": "execute_result"
    }
   ],
   "source": [
    "sample_2_40 = category_2[category_2.Area > 40] # выборка 2-х комн. квартиры площадью более 40 кв. метров\n",
    "\n",
    "sample_2_40.shape\n",
    "sample_2_40.head()"
   ]
  },
  {
   "cell_type": "code",
   "execution_count": 20,
   "metadata": {},
   "outputs": [
    {
     "data": {
      "text/plain": [
       "25%    7924.0\n",
       "50%    8812.0\n",
       "75%    9684.5\n",
       "Name: Price, dtype: float64"
      ]
     },
     "execution_count": 20,
     "metadata": {},
     "output_type": "execute_result"
    }
   ],
   "source": [
    "sample_2_40.Price.describe()[4:7] # границы квартилей"
   ]
  },
  {
   "cell_type": "code",
   "execution_count": 21,
   "metadata": {},
   "outputs": [
    {
     "data": {
      "text/plain": [
       "<matplotlib.axes._subplots.AxesSubplot at 0xa612a70>"
      ]
     },
     "execution_count": 21,
     "metadata": {},
     "output_type": "execute_result"
    },
    {
     "data": {
      "text/plain": [
       "Text(0.5, 1.0, 'График ящик с усами для параметра Price (sns.boxplot)')"
      ]
     },
     "execution_count": 21,
     "metadata": {},
     "output_type": "execute_result"
    },
    {
     "data": {
      "image/png": "[encoded data removed]",
      "text/plain": [
       "<Figure size 288x432 with 1 Axes>"
      ]
     },
     "metadata": {},
     "output_type": "display_data"
    }
   ],
   "source": [
    "rcParams['figure.figsize'] = 4,6\n",
    "sns.boxplot(y=sample_2_40.Price, color=\"darkcyan\")\n",
    "\n",
    "plt.title('График ящик с усами для параметра Price (sns.boxplot)')"
   ]
  },
  {
   "cell_type": "markdown",
   "metadata": {},
   "source": [
    "**Задание 4**. Решить задачу. Вы являетесь риелтором, ваша прибыль это комиссия 3% от суммы сделки купли-продажи квартир (цена квартиры). В текущем квартале у вас ожидается 25 сделок купли-продажи 3-х комнатных квартир. Оцените вероятность того, что ваша суммарная прибыль от этих продаж превысит 9 млн. 200 тыс. *В каждой категории разная степень корреляции. Т.е. у 3 комнатных она может быть иная, чем у однокомнатных.*"
   ]
  },
  {
   "cell_type": "code",
   "execution_count": 22,
   "metadata": {},
   "outputs": [
    {
     "data": {
      "text/html": [
       "<div>\n",
       "<style scoped>\n",
       "    .dataframe tbody tr th:only-of-type {\n",
       "        vertical-align: middle;\n",
       "    }\n",
       "\n",
       "    .dataframe tbody tr th {\n",
       "        vertical-align: top;\n",
       "    }\n",
       "\n",
       "    .dataframe thead th {\n",
       "        text-align: right;\n",
       "    }\n",
       "</style>\n",
       "<table border=\"1\" class=\"dataframe\">\n",
       "  <thead>\n",
       "    <tr style=\"text-align: right;\">\n",
       "      <th></th>\n",
       "      <th>No</th>\n",
       "      <th>Rooms</th>\n",
       "      <th>DistMetro</th>\n",
       "      <th>Area</th>\n",
       "      <th>Price</th>\n",
       "    </tr>\n",
       "  </thead>\n",
       "  <tbody>\n",
       "    <tr>\n",
       "      <th>0</th>\n",
       "      <td>1</td>\n",
       "      <td>3</td>\n",
       "      <td>12</td>\n",
       "      <td>56</td>\n",
       "      <td>9396</td>\n",
       "    </tr>\n",
       "    <tr>\n",
       "      <th>5</th>\n",
       "      <td>6</td>\n",
       "      <td>3</td>\n",
       "      <td>19</td>\n",
       "      <td>65</td>\n",
       "      <td>11318</td>\n",
       "    </tr>\n",
       "    <tr>\n",
       "      <th>6</th>\n",
       "      <td>7</td>\n",
       "      <td>3</td>\n",
       "      <td>13</td>\n",
       "      <td>69</td>\n",
       "      <td>11301</td>\n",
       "    </tr>\n",
       "    <tr>\n",
       "      <th>8</th>\n",
       "      <td>9</td>\n",
       "      <td>3</td>\n",
       "      <td>3</td>\n",
       "      <td>68</td>\n",
       "      <td>13279</td>\n",
       "    </tr>\n",
       "    <tr>\n",
       "      <th>10</th>\n",
       "      <td>11</td>\n",
       "      <td>3</td>\n",
       "      <td>18</td>\n",
       "      <td>63</td>\n",
       "      <td>11653</td>\n",
       "    </tr>\n",
       "  </tbody>\n",
       "</table>\n",
       "</div>"
      ],
      "text/plain": [
       "    No  Rooms  DistMetro  Area  Price\n",
       "0    1      3         12    56   9396\n",
       "5    6      3         19    65  11318\n",
       "6    7      3         13    69  11301\n",
       "8    9      3          3    68  13279\n",
       "10  11      3         18    63  11653"
      ]
     },
     "execution_count": 22,
     "metadata": {},
     "output_type": "execute_result"
    },
    {
     "data": {
      "text/plain": [
       "count     1653.000000\n",
       "mean     11749.978221\n",
       "std       1959.611884\n",
       "min       6338.000000\n",
       "25%      10320.000000\n",
       "50%      11639.000000\n",
       "75%      13123.000000\n",
       "max      17614.000000\n",
       "Name: Price, dtype: float64"
      ]
     },
     "execution_count": 22,
     "metadata": {},
     "output_type": "execute_result"
    }
   ],
   "source": [
    "category_3.head()\n",
    "category_3.Price.describe()"
   ]
  },
  {
   "cell_type": "markdown",
   "metadata": {},
   "source": [
    "*Если продажи будут по средней цене 11749.978221, то прибыль от 25 сделок составит: 8 млн. 812 тыс.*\n",
    "\n",
    "*По условию нужно определить вероятность, что суммарная прибыль превысит 9 млн. 200 тыс. Это означает, что средняя цена продажи должна превысить: 12266.7*"
   ]
  },
  {
   "cell_type": "code",
   "execution_count": 23,
   "metadata": {},
   "outputs": [],
   "source": [
    "X_avg_fact = statistics.mean(category_3.Price) # средняя цена 3-к. квартир в тыс.руб.\n",
    "\n",
    "# 9 млн.200 тыс. - это плановые (желаемые) 3% от общей стоимости продаж 25 квартир\n",
    "mu_plan = (92*10**4)/(3*25) # плановое, гипотетическое значение средней продажи\n",
    "\n",
    "sigma = statistics.stdev(category_3.Price) "
   ]
  },
  {
   "cell_type": "code",
   "execution_count": 24,
   "metadata": {
    "scrolled": true
   },
   "outputs": [
    {
     "data": {
      "text/plain": [
       "11749.978221415608"
      ]
     },
     "execution_count": 24,
     "metadata": {},
     "output_type": "execute_result"
    },
    {
     "data": {
      "text/plain": [
       "12266.666666666666"
      ]
     },
     "execution_count": 24,
     "metadata": {},
     "output_type": "execute_result"
    },
    {
     "data": {
      "text/plain": [
       "1959.6118842295127"
      ]
     },
     "execution_count": 24,
     "metadata": {},
     "output_type": "execute_result"
    }
   ],
   "source": [
    "X_avg_fact\n",
    "mu_plan\n",
    "sigma"
   ]
  },
  {
   "cell_type": "code",
   "execution_count": 25,
   "metadata": {},
   "outputs": [
    {
     "data": {
      "text/plain": [
       "-1.3183438246349786"
      ]
     },
     "execution_count": 25,
     "metadata": {},
     "output_type": "execute_result"
    }
   ],
   "source": [
    "Z_test = (X_avg_fact - mu_plan)/(sigma/np.sqrt(25))\n",
    "Z_test"
   ]
  },
  {
   "cell_type": "code",
   "execution_count": 26,
   "metadata": {},
   "outputs": [
    {
     "data": {
      "text/plain": [
       "9.370659589597503"
      ]
     },
     "execution_count": 26,
     "metadata": {},
     "output_type": "execute_result"
    }
   ],
   "source": [
    "sts.t.cdf(Z_test, df=mu_plan)*100 # вероятность в процентах"
   ]
  },
  {
   "cell_type": "markdown",
   "metadata": {},
   "source": [
    "**Задание 5**. Решить задачу. Рассчитать дисперсию стоимости кв.метра в каждой категории. Как меняется дисперсия с количеством комнат? Есть ли (и какая) связь с изменением коэффициента корреляции?"
   ]
  },
  {
   "cell_type": "code",
   "execution_count": 27,
   "metadata": {},
   "outputs": [
    {
     "name": "stderr",
     "output_type": "stream",
     "text": [
      "E:\\Python_programming\\Tatiana Python2_Specialist_30-07-2019\\python-29-07\\python\\lib\\site-packages\\ipykernel_launcher.py:1: SettingWithCopyWarning: \n",
      "A value is trying to be set on a copy of a slice from a DataFrame.\n",
      "Try using .loc[row_indexer,col_indexer] = value instead\n",
      "\n",
      "See the caveats in the documentation: http://pandas.pydata.org/pandas-docs/stable/user_guide/indexing.html#returning-a-view-versus-a-copy\n",
      "  \"\"\"Entry point for launching an IPython kernel.\n",
      "E:\\Python_programming\\Tatiana Python2_Specialist_30-07-2019\\python-29-07\\python\\lib\\site-packages\\ipykernel_launcher.py:2: SettingWithCopyWarning: \n",
      "A value is trying to be set on a copy of a slice from a DataFrame.\n",
      "Try using .loc[row_indexer,col_indexer] = value instead\n",
      "\n",
      "See the caveats in the documentation: http://pandas.pydata.org/pandas-docs/stable/user_guide/indexing.html#returning-a-view-versus-a-copy\n",
      "  \n",
      "E:\\Python_programming\\Tatiana Python2_Specialist_30-07-2019\\python-29-07\\python\\lib\\site-packages\\ipykernel_launcher.py:3: SettingWithCopyWarning: \n",
      "A value is trying to be set on a copy of a slice from a DataFrame.\n",
      "Try using .loc[row_indexer,col_indexer] = value instead\n",
      "\n",
      "See the caveats in the documentation: http://pandas.pydata.org/pandas-docs/stable/user_guide/indexing.html#returning-a-view-versus-a-copy\n",
      "  This is separate from the ipykernel package so we can avoid doing imports until\n"
     ]
    },
    {
     "data": {
      "text/html": [
       "<div>\n",
       "<style scoped>\n",
       "    .dataframe tbody tr th:only-of-type {\n",
       "        vertical-align: middle;\n",
       "    }\n",
       "\n",
       "    .dataframe tbody tr th {\n",
       "        vertical-align: top;\n",
       "    }\n",
       "\n",
       "    .dataframe thead th {\n",
       "        text-align: right;\n",
       "    }\n",
       "</style>\n",
       "<table border=\"1\" class=\"dataframe\">\n",
       "  <thead>\n",
       "    <tr style=\"text-align: right;\">\n",
       "      <th></th>\n",
       "      <th>No</th>\n",
       "      <th>Rooms</th>\n",
       "      <th>DistMetro</th>\n",
       "      <th>Area</th>\n",
       "      <th>Price</th>\n",
       "      <th>price_per_m2</th>\n",
       "    </tr>\n",
       "  </thead>\n",
       "  <tbody>\n",
       "    <tr>\n",
       "      <th>2</th>\n",
       "      <td>3</td>\n",
       "      <td>1</td>\n",
       "      <td>2</td>\n",
       "      <td>31</td>\n",
       "      <td>5783</td>\n",
       "      <td>186.548387</td>\n",
       "    </tr>\n",
       "    <tr>\n",
       "      <th>4</th>\n",
       "      <td>5</td>\n",
       "      <td>1</td>\n",
       "      <td>11</td>\n",
       "      <td>31</td>\n",
       "      <td>5662</td>\n",
       "      <td>182.645161</td>\n",
       "    </tr>\n",
       "    <tr>\n",
       "      <th>11</th>\n",
       "      <td>12</td>\n",
       "      <td>1</td>\n",
       "      <td>14</td>\n",
       "      <td>25</td>\n",
       "      <td>4206</td>\n",
       "      <td>168.240000</td>\n",
       "    </tr>\n",
       "    <tr>\n",
       "      <th>13</th>\n",
       "      <td>14</td>\n",
       "      <td>1</td>\n",
       "      <td>11</td>\n",
       "      <td>24</td>\n",
       "      <td>4703</td>\n",
       "      <td>195.958333</td>\n",
       "    </tr>\n",
       "    <tr>\n",
       "      <th>18</th>\n",
       "      <td>19</td>\n",
       "      <td>1</td>\n",
       "      <td>2</td>\n",
       "      <td>30</td>\n",
       "      <td>6488</td>\n",
       "      <td>216.266667</td>\n",
       "    </tr>\n",
       "  </tbody>\n",
       "</table>\n",
       "</div>"
      ],
      "text/plain": [
       "    No  Rooms  DistMetro  Area  Price  price_per_m2\n",
       "2    3      1          2    31   5783    186.548387\n",
       "4    5      1         11    31   5662    182.645161\n",
       "11  12      1         14    25   4206    168.240000\n",
       "13  14      1         11    24   4703    195.958333\n",
       "18  19      1          2    30   6488    216.266667"
      ]
     },
     "execution_count": 27,
     "metadata": {},
     "output_type": "execute_result"
    },
    {
     "data": {
      "text/html": [
       "<div>\n",
       "<style scoped>\n",
       "    .dataframe tbody tr th:only-of-type {\n",
       "        vertical-align: middle;\n",
       "    }\n",
       "\n",
       "    .dataframe tbody tr th {\n",
       "        vertical-align: top;\n",
       "    }\n",
       "\n",
       "    .dataframe thead th {\n",
       "        text-align: right;\n",
       "    }\n",
       "</style>\n",
       "<table border=\"1\" class=\"dataframe\">\n",
       "  <thead>\n",
       "    <tr style=\"text-align: right;\">\n",
       "      <th></th>\n",
       "      <th>No</th>\n",
       "      <th>Rooms</th>\n",
       "      <th>DistMetro</th>\n",
       "      <th>Area</th>\n",
       "      <th>Price</th>\n",
       "      <th>price_per_m2</th>\n",
       "    </tr>\n",
       "  </thead>\n",
       "  <tbody>\n",
       "    <tr>\n",
       "      <th>1</th>\n",
       "      <td>2</td>\n",
       "      <td>2</td>\n",
       "      <td>4</td>\n",
       "      <td>54</td>\n",
       "      <td>9785</td>\n",
       "      <td>181.203704</td>\n",
       "    </tr>\n",
       "    <tr>\n",
       "      <th>3</th>\n",
       "      <td>4</td>\n",
       "      <td>2</td>\n",
       "      <td>8</td>\n",
       "      <td>48</td>\n",
       "      <td>9123</td>\n",
       "      <td>190.062500</td>\n",
       "    </tr>\n",
       "    <tr>\n",
       "      <th>7</th>\n",
       "      <td>8</td>\n",
       "      <td>2</td>\n",
       "      <td>12</td>\n",
       "      <td>52</td>\n",
       "      <td>7908</td>\n",
       "      <td>152.076923</td>\n",
       "    </tr>\n",
       "    <tr>\n",
       "      <th>9</th>\n",
       "      <td>10</td>\n",
       "      <td>2</td>\n",
       "      <td>5</td>\n",
       "      <td>46</td>\n",
       "      <td>8047</td>\n",
       "      <td>174.934783</td>\n",
       "    </tr>\n",
       "    <tr>\n",
       "      <th>15</th>\n",
       "      <td>16</td>\n",
       "      <td>2</td>\n",
       "      <td>0</td>\n",
       "      <td>49</td>\n",
       "      <td>10305</td>\n",
       "      <td>210.306122</td>\n",
       "    </tr>\n",
       "  </tbody>\n",
       "</table>\n",
       "</div>"
      ],
      "text/plain": [
       "    No  Rooms  DistMetro  Area  Price  price_per_m2\n",
       "1    2      2          4    54   9785    181.203704\n",
       "3    4      2          8    48   9123    190.062500\n",
       "7    8      2         12    52   7908    152.076923\n",
       "9   10      2          5    46   8047    174.934783\n",
       "15  16      2          0    49  10305    210.306122"
      ]
     },
     "execution_count": 27,
     "metadata": {},
     "output_type": "execute_result"
    },
    {
     "data": {
      "text/html": [
       "<div>\n",
       "<style scoped>\n",
       "    .dataframe tbody tr th:only-of-type {\n",
       "        vertical-align: middle;\n",
       "    }\n",
       "\n",
       "    .dataframe tbody tr th {\n",
       "        vertical-align: top;\n",
       "    }\n",
       "\n",
       "    .dataframe thead th {\n",
       "        text-align: right;\n",
       "    }\n",
       "</style>\n",
       "<table border=\"1\" class=\"dataframe\">\n",
       "  <thead>\n",
       "    <tr style=\"text-align: right;\">\n",
       "      <th></th>\n",
       "      <th>No</th>\n",
       "      <th>Rooms</th>\n",
       "      <th>DistMetro</th>\n",
       "      <th>Area</th>\n",
       "      <th>Price</th>\n",
       "      <th>price_per_m2</th>\n",
       "    </tr>\n",
       "  </thead>\n",
       "  <tbody>\n",
       "    <tr>\n",
       "      <th>0</th>\n",
       "      <td>1</td>\n",
       "      <td>3</td>\n",
       "      <td>12</td>\n",
       "      <td>56</td>\n",
       "      <td>9396</td>\n",
       "      <td>167.785714</td>\n",
       "    </tr>\n",
       "    <tr>\n",
       "      <th>5</th>\n",
       "      <td>6</td>\n",
       "      <td>3</td>\n",
       "      <td>19</td>\n",
       "      <td>65</td>\n",
       "      <td>11318</td>\n",
       "      <td>174.123077</td>\n",
       "    </tr>\n",
       "    <tr>\n",
       "      <th>6</th>\n",
       "      <td>7</td>\n",
       "      <td>3</td>\n",
       "      <td>13</td>\n",
       "      <td>69</td>\n",
       "      <td>11301</td>\n",
       "      <td>163.782609</td>\n",
       "    </tr>\n",
       "    <tr>\n",
       "      <th>8</th>\n",
       "      <td>9</td>\n",
       "      <td>3</td>\n",
       "      <td>3</td>\n",
       "      <td>68</td>\n",
       "      <td>13279</td>\n",
       "      <td>195.279412</td>\n",
       "    </tr>\n",
       "    <tr>\n",
       "      <th>10</th>\n",
       "      <td>11</td>\n",
       "      <td>3</td>\n",
       "      <td>18</td>\n",
       "      <td>63</td>\n",
       "      <td>11653</td>\n",
       "      <td>184.968254</td>\n",
       "    </tr>\n",
       "  </tbody>\n",
       "</table>\n",
       "</div>"
      ],
      "text/plain": [
       "    No  Rooms  DistMetro  Area  Price  price_per_m2\n",
       "0    1      3         12    56   9396    167.785714\n",
       "5    6      3         19    65  11318    174.123077\n",
       "6    7      3         13    69  11301    163.782609\n",
       "8    9      3          3    68  13279    195.279412\n",
       "10  11      3         18    63  11653    184.968254"
      ]
     },
     "execution_count": 27,
     "metadata": {},
     "output_type": "execute_result"
    }
   ],
   "source": [
    "category_1['price_per_m2'] = category_1.apply(lambda row: row.Price/row.Area, axis=1)\n",
    "category_2['price_per_m2'] = category_2.apply(lambda row: row.Price/row.Area, axis=1)\n",
    "category_3['price_per_m2'] = category_3.apply(lambda row: row.Price/row.Area, axis=1)\n",
    "\n",
    "category_1.head()\n",
    "category_2.head()\n",
    "category_3.head()"
   ]
  },
  {
   "cell_type": "code",
   "execution_count": 28,
   "metadata": {},
   "outputs": [
    {
     "data": {
      "text/plain": [
       "580.093"
      ]
     },
     "execution_count": 28,
     "metadata": {},
     "output_type": "execute_result"
    },
    {
     "data": {
      "text/plain": [
       "420.135"
      ]
     },
     "execution_count": 28,
     "metadata": {},
     "output_type": "execute_result"
    },
    {
     "data": {
      "text/plain": [
       "381.649"
      ]
     },
     "execution_count": 28,
     "metadata": {},
     "output_type": "execute_result"
    }
   ],
   "source": [
    "d1 = statistics.variance(category_1.price_per_m2) # Дисперсия для 1-к.\n",
    "\n",
    "d2 = statistics.variance(category_2.price_per_m2) # Дисперсия для 2-к.\n",
    "\n",
    "d3 = statistics.variance(category_3.price_per_m2) # Дисперсия для 3-к.\n",
    "\n",
    "round(d1, 3)\n",
    "round(d2, 3)\n",
    "round(d3, 3)"
   ]
  },
  {
   "cell_type": "markdown",
   "metadata": {},
   "source": [
    "*Сравним Дисперсии variance: category_1 (580.093) > category_2 (420.135) > category_3 (381.649)*\n",
    "\n",
    "*Вывод: с увеличением количества комнат дисперсия цены кв. метра уменьшается.*"
   ]
  },
  {
   "cell_type": "code",
   "execution_count": 29,
   "metadata": {},
   "outputs": [
    {
     "data": {
      "text/plain": [
       "[580.0932409185209, 420.13502667698214, 381.64918080343705]"
      ]
     },
     "execution_count": 29,
     "metadata": {},
     "output_type": "execute_result"
    },
    {
     "data": {
      "text/plain": [
       "[0.6528312289899473, 0.7058155230162519, 0.7447234199703188]"
      ]
     },
     "execution_count": 29,
     "metadata": {},
     "output_type": "execute_result"
    }
   ],
   "source": [
    "variance_list = [d1, d2, d3]\n",
    "corr_list = [sts.pearsonr(category_1.Area, category_1.Price)[0],\\\n",
    "             sts.pearsonr(category_2.Area, category_2.Price)[0],\\\n",
    "             sts.pearsonr(category_3.Area, category_3.Price)[0]]\n",
    "\n",
    "variance_list\n",
    "corr_list"
   ]
  },
  {
   "cell_type": "code",
   "execution_count": 30,
   "metadata": {},
   "outputs": [
    {
     "data": {
      "text/plain": [
       "(-0.00042451549525912607, 0.8966661871236705)"
      ]
     },
     "execution_count": 30,
     "metadata": {},
     "output_type": "execute_result"
    },
    {
     "data": {
      "text/plain": [
       "(0.16010871889386835, 0.00010907433286927357)"
      ]
     },
     "execution_count": 30,
     "metadata": {},
     "output_type": "execute_result"
    }
   ],
   "source": [
    "slope, intercept, r_value, p_value, std_err = sts.linregress(variance_list,corr_list)\n",
    "\n",
    "slope, intercept\n",
    "p_value, std_err\n",
    "\n",
    "x1 = np.linspace(350, 600)\n",
    "y1 = slope*x1+intercept # Регрессионная прямая"
   ]
  },
  {
   "cell_type": "code",
   "execution_count": 31,
   "metadata": {},
   "outputs": [
    {
     "data": {
      "text/plain": [
       "<matplotlib.collections.PathCollection at 0x3908270>"
      ]
     },
     "execution_count": 31,
     "metadata": {},
     "output_type": "execute_result"
    },
    {
     "data": {
      "text/plain": [
       "[<matplotlib.lines.Line2D at 0x3908510>]"
      ]
     },
     "execution_count": 31,
     "metadata": {},
     "output_type": "execute_result"
    },
    {
     "data": {
      "text/plain": [
       "Text(0.5, 0, 'variance: Price/Area')"
      ]
     },
     "execution_count": 31,
     "metadata": {},
     "output_type": "execute_result"
    },
    {
     "data": {
      "text/plain": [
       "Text(0, 0.5, 'pearsonr: Price & Area')"
      ]
     },
     "execution_count": 31,
     "metadata": {},
     "output_type": "execute_result"
    },
    {
     "data": {
      "text/plain": [
       "<matplotlib.legend.Legend at 0xa5b57d0>"
      ]
     },
     "execution_count": 31,
     "metadata": {},
     "output_type": "execute_result"
    },
    {
     "data": {
      "image/png": "[encoded data removed]",
      "text/plain": [
       "<Figure size 648x432 with 1 Axes>"
      ]
     },
     "metadata": {},
     "output_type": "display_data"
    }
   ],
   "source": [
    "# Посмотрим графически на связь дисперсии и изменения коэффициента корреляции\n",
    "\n",
    "rcParams['figure.figsize'] = 9,6\n",
    "plt.scatter(variance_list, corr_list, c='red', label='data')\n",
    "plt.plot(x1, y1, '--', linewidth=2, label='regression_line')\n",
    "\n",
    "plt.grid(True)\n",
    "plt.xlabel('variance: Price/Area')\n",
    "plt.ylabel('pearsonr: Price & Area')\n",
    "plt.legend()"
   ]
  }
 ],
 "metadata": {
  "kernelspec": {
   "display_name": "Python 3",
   "language": "python",
   "name": "python3"
  },
  "language_info": {
   "codemirror_mode": {
    "name": "ipython",
    "version": 3
   },
   "file_extension": ".py",
   "mimetype": "text/x-python",
   "name": "python",
   "nbconvert_exporter": "python",
   "pygments_lexer": "ipython3",
   "version": "3.7.3"
  }
 },
 "nbformat": 4,
 "nbformat_minor": 2
}
