{
 "cells": [
  {
   "cell_type": "markdown",
   "metadata": {},
   "source": [
    "## Домашнее задание к занятию №5 от 15.08.2019 г. «Библиотеки Numpy и scipy»\n",
    "ФИО: Кривова Татьяна Сергеевна"
   ]
  },
  {
   "cell_type": "markdown",
   "metadata": {},
   "source": [
    "**Задание 1**. Создайте numpy array с элементами от числа N до 0 (например, для N = 10 это будет *array([9, 8, 7, 6, 5, 4, 3, 2, 1, 0]))*."
   ]
  },
  {
   "cell_type": "code",
   "execution_count": 1,
   "metadata": {},
   "outputs": [],
   "source": [
    "import numpy as np"
   ]
  },
  {
   "cell_type": "code",
   "execution_count": 2,
   "metadata": {},
   "outputs": [
    {
     "data": {
      "text/plain": [
       "array([9, 8, 7, 6, 5, 4, 3, 2, 1, 0])"
      ]
     },
     "execution_count": 2,
     "metadata": {},
     "output_type": "execute_result"
    }
   ],
   "source": [
    "n = 10\n",
    "line = np.arange(n-1,-1,-1, dtype=int)\n",
    "\n",
    "np.set_printoptions(threshold=300, edgeitems=5, linewidth=100) # позволяет настроить параметры печати массива\n",
    "\n",
    "line\n",
    "\n",
    "#type(line) # проверяю тип: numpy.ndarray"
   ]
  },
  {
   "cell_type": "markdown",
   "metadata": {},
   "source": [
    "**Задание 2**. Создайте диагональную матрицу с элементами от N до 0. Посчитайте сумму ее значений на диагонали."
   ]
  },
  {
   "cell_type": "code",
   "execution_count": 11,
   "metadata": {
    "scrolled": false
   },
   "outputs": [
    {
     "name": "stdout",
     "output_type": "stream",
     "text": [
      "Сумма значений на диагонали: 120\n"
     ]
    }
   ],
   "source": [
    "n = 15\n",
    "# на главной диагонали матрицы числа от n до 0 (включительно), размер матрицы n+1\n",
    "table = np.diag(np.arange(n,-1,-1, dtype=int), k=0)\n",
    "sum_diagonal = np.trace(table) # использую метод trace для суммы по диагонали\n",
    "\n",
    "# Решение №2: с помощью функции суммирования и цикла\n",
    "#sum_diagonal = sum(table[index][index] for index in range(len(table)))\n",
    "\n",
    "print(f'Сумма значений на диагонали: {sum_diagonal}')"
   ]
  },
  {
   "cell_type": "markdown",
   "metadata": {},
   "source": [
    "**Задание 3**. Решите систему уравнений:\n",
    "\\begin{equation*}\n",
    "4x + 2y + z = 4 \\\\\n",
    "x + 3y = 12 \\\\\n",
    "5y + 4z = -3\n",
    "\\end{equation*}"
   ]
  },
  {
   "cell_type": "code",
   "execution_count": 13,
   "metadata": {},
   "outputs": [
    {
     "name": "stdout",
     "output_type": "stream",
     "text": [
      "Решение: (x = 0.467, y = 3.844, z = -5.556)\n"
     ]
    }
   ],
   "source": [
    "table = np.array([ [4, 2, 1], \n",
    "                   [1, 3, 0], \n",
    "                   [0, 5, 4] ]) # Матрица (коэффициенты левой части системы уравнений)\n",
    "\n",
    "vector = np.array([4, 12, -3]) # Вектор (значения свободного члена)\n",
    "\n",
    "result = np.linalg.solve(table, vector)\n",
    "#result # проверяю переменную result: array([ 0.46666667,  3.84444444, -5.55555556])\n",
    "\n",
    "print(f'Решение: (x = {round(result[0], 3)}, \\\n",
    "y = {round(result[1], 3)}, \\\n",
    "z = {round(result[2], 3)})')"
   ]
  }
 ],
 "metadata": {
  "kernelspec": {
   "display_name": "Python 3",
   "language": "python",
   "name": "python3"
  },
  "language_info": {
   "codemirror_mode": {
    "name": "ipython",
    "version": 3
   },
   "file_extension": ".py",
   "mimetype": "text/x-python",
   "name": "python",
   "nbconvert_exporter": "python",
   "pygments_lexer": "ipython3",
   "version": "3.7.3"
  }
 },
 "nbformat": 4,
 "nbformat_minor": 2
}
