{
 "cells": [
  {
   "cell_type": "markdown",
   "metadata": {},
   "source": [
    "## Домашнее задание к занятию №3 от 08.08.2019 г. «Функции»\n",
    "\n",
    "ФИО: Кривова Татьяна Сергеевна"
   ]
  },
  {
   "cell_type": "markdown",
   "metadata": {},
   "source": [
    "## Задание 1"
   ]
  },
  {
   "cell_type": "markdown",
   "metadata": {},
   "source": [
    "Дан список вида:"
   ]
  },
  {
   "cell_type": "code",
   "execution_count": 1,
   "metadata": {},
   "outputs": [],
   "source": [
    "data = [\n",
    "    [13, 25, 23, 34],\n",
    "    [45, 32, 44, 47],\n",
    "    [12, 33, 23, 95],\n",
    "    [13, 53, 34, 35]\n",
    "]"
   ]
  },
  {
   "cell_type": "markdown",
   "metadata": {},
   "source": [
    "Напишите функцию, которая возвращает сумму элементов на диагонали. Т. е. 13+32+23+35."
   ]
  },
  {
   "cell_type": "code",
   "execution_count": 2,
   "metadata": {},
   "outputs": [
    {
     "data": {
      "text/plain": [
       "103"
      ]
     },
     "execution_count": 2,
     "metadata": {},
     "output_type": "execute_result"
    }
   ],
   "source": [
    "def summarize_diagonal(spisok=data):\n",
    "    '''Возвращает сумму элементов на диагонали. Аргумент (list): spisok.'''\n",
    "    diagonal_sum = 0\n",
    "    \n",
    "    for index, element in enumerate(spisok): # суммирую элементы с соответствующим индексом  \n",
    "        diagonal_sum += element[index]\n",
    "    return diagonal_sum\n",
    "\n",
    "summarize_diagonal() # вызов функции"
   ]
  },
  {
   "cell_type": "code",
   "execution_count": 3,
   "metadata": {},
   "outputs": [
    {
     "data": {
      "text/plain": [
       "103"
      ]
     },
     "execution_count": 3,
     "metadata": {},
     "output_type": "execute_result"
    }
   ],
   "source": [
    "# Решение №2: с помощью массива ndarray и метода trace для суммы по диагонали\n",
    "import numpy as np\n",
    "\n",
    "def summarize_trace(spisok=data):\n",
    "    diagonal_sum = np.trace(np.array(data))\n",
    "    return diagonal_sum\n",
    "\n",
    "summarize_trace()"
   ]
  },
  {
   "cell_type": "markdown",
   "metadata": {},
   "source": [
    "## Задание 2"
   ]
  },
  {
   "cell_type": "markdown",
   "metadata": {},
   "source": [
    "Дан список чисел, часть из которых имеют строковый тип или содержат буквы. Напишите функцию, которая возвращает сумму квадратов элементов, которые могут быть числами."
   ]
  },
  {
   "cell_type": "code",
   "execution_count": 4,
   "metadata": {},
   "outputs": [],
   "source": [
    "data = [1, '5', 'abc', 20, '2', ' 0.5 ', 1.5, ' -10.75']"
   ]
  },
  {
   "cell_type": "code",
   "execution_count": 5,
   "metadata": {},
   "outputs": [],
   "source": [
    "# Вспомогательная функция, которая определяет, является ли параметр числом.\n",
    "# Обрабатывает ситуации, когда в строке может быть положительное или отрицательное, целое или десятичное число.\n",
    "def verify_numeric(line):\n",
    "    '''Проверяет, является ли параметр числом --> bool. Аргумент (int, либо float, либо str): line.'''\n",
    "    try:\n",
    "        float(line)\n",
    "        return True\n",
    "    except Exception:\n",
    "        return False"
   ]
  },
  {
   "cell_type": "code",
   "execution_count": 6,
   "metadata": {},
   "outputs": [
    {
     "data": {
      "text/plain": [
       "548.0625"
      ]
     },
     "execution_count": 6,
     "metadata": {},
     "output_type": "execute_result"
    }
   ],
   "source": [
    "def summarize_squares(spisok=data):\n",
    "    '''Возвращает сумму квадратов элементов, которые могут быть числами. Аргумент (list): spisok.'''\n",
    "    squares_sum = 0\n",
    "    for number in spisok:\n",
    "        if verify_numeric(number): squares_sum += float(number) ** 2\n",
    "    return squares_sum\n",
    "\n",
    "summarize_squares() # вызов функции"
   ]
  },
  {
   "cell_type": "markdown",
   "metadata": {},
   "source": [
    "## Задание 3"
   ]
  },
  {
   "cell_type": "markdown",
   "metadata": {},
   "source": [
    "Напишите функцию, возвращающую сумму первых n чисел Фибоначчи."
   ]
  },
  {
   "cell_type": "code",
   "execution_count": 20,
   "metadata": {},
   "outputs": [
    {
     "name": "stdout",
     "output_type": "stream",
     "text": [
      "Сумма первых 50 чисел Фибоначчи: 32951280098\n",
      "и их последовательность:\n",
      "[0, 1, 1, 2, 3, 5, 8, 13, 21, 34, 55, 89, 144, 233, 377, 610, 987, 1597, 2584, 4181, 6765, 10946, 17711, 28657, 46368, 75025, 121393, 196418, 317811, 514229, 832040, 1346269, 2178309, 3524578, 5702887, 9227465, 14930352, 24157817, 39088169, 63245986, 102334155, 165580141, 267914296, 433494437, 701408733, 1134903170, 1836311903, 2971215073, 4807526976, 7778742049, 12586269025]\n"
     ]
    }
   ],
   "source": [
    "def summarize_fib(n):\n",
    "    '''Выводит сумму первых n чисел Фибоначчи и их последовательность: f(0)=0, первое число f(1)=1, \\\n",
    "последующие числа для n>=2: f(n)= f(n-1) + f(n-2). Аргумент (int): n.'''\n",
    "    fibonacci_sequence = [0]  \n",
    "    previous_number, next_number = 0, 1\n",
    "    for number in range(0, n):\n",
    "        previous_number, next_number = next_number, previous_number+next_number # переприсваиваю значения\n",
    "        fibonacci_sequence.append(previous_number) # в список добавляю числа Фибоначчи\n",
    "    fib_sum = sum(fibonacci_sequence)\n",
    "    print(f'Сумма первых {n} чисел Фибоначчи: {fib_sum}\\nи их последовательность:\\n{fibonacci_sequence}')\n",
    "\n",
    "summarize_fib(50)"
   ]
  },
  {
   "cell_type": "code",
   "execution_count": 21,
   "metadata": {},
   "outputs": [
    {
     "data": {
      "text/plain": [
       "32951280098"
      ]
     },
     "execution_count": 21,
     "metadata": {},
     "output_type": "execute_result"
    },
    {
     "name": "stdout",
     "output_type": "stream",
     "text": [
      "CacheInfo(hits=98, misses=51, maxsize=None, currsize=51)\n"
     ]
    }
   ],
   "source": [
    "# Решение №2: с помощью рекурсивного алгоритма\n",
    "\n",
    "from functools import lru_cache\n",
    "\n",
    "@lru_cache(maxsize=None) # использую декоратор lru_cache для кэширования функции fibonacci_number(n)\n",
    "def fibonacci_number(n):\n",
    "    '''Возвращает n-е число из последовательности Фибоначчи: f(0)=0, первое число f(1)=1, \\\n",
    "последующие числа для n>=2: f(n)= f(n-1) + f(n-2). Аргумент (int): n.'''\n",
    "    if n < 2: return n\n",
    "    return fibonacci_number(n-2) + fibonacci_number(n-1)\n",
    "\n",
    "def summarize_fib(n):\n",
    "    fib_sum = 0\n",
    "    for number in range(0, n+1):\n",
    "        fib_sum += fibonacci_number(number)\n",
    "    return fib_sum\n",
    "\n",
    "summarize_fib(50)\n",
    "print(fibonacci_number.cache_info())"
   ]
  },
  {
   "cell_type": "markdown",
   "metadata": {},
   "source": [
    "## Задание 4"
   ]
  },
  {
   "cell_type": "markdown",
   "metadata": {},
   "source": [
    "Дан набор данных об обучении студентов на курсе программирования, который содержит: \n",
    "1) имя\n",
    "2) фамилию \n",
    "3) пол \n",
    "4) наличие у студента опыта в программировании \n",
    "5) набор оценок за домашние работы \n",
    "6) оценку за итоговую работу.\n",
    "\n",
    "Напишите программу, которая будет принимать команду от пользователя и возвращать соотвествующий результат.\n",
    "Список команд: \n",
    "1 - вывести на экран среднюю оценку за все ДЗ по группе и вывести на экран среднюю оценку за экзамен по группе;\n",
    "2 - вывести среднюю оценку за ДЗ и за экзамен по группе в разрезе пола студентов\n",
    "3 - вывести среднюю оценку за ДЗ и за экзамен в разрезе наличия опыта в программировании у студентов.\n",
    "\n",
    "Прогрмма должна быть полностью декомпозирована на функции (кроме объявления функций и вызова итоговой функции в реализации ничего быть не должно)."
   ]
  },
  {
   "cell_type": "code",
   "execution_count": 15,
   "metadata": {},
   "outputs": [],
   "source": [
    "students_list = [\n",
    "    {'name': 'Василий', 'surname': 'Теркин', 'sex': 'м', 'program_exp': True, 'grade': [8, 8, 9, 10, 9], 'exam': 9},\n",
    "    {'name': 'Мария', 'surname': 'Павлова', 'sex': 'ж', 'program_exp': True, 'grade': [7, 8, 9, 7, 9], 'exam': 8},\n",
    "    {'name': 'Ирина', 'surname': 'Андреева', 'sex': 'ж', 'program_exp': True, 'grade': [10, 9, 8, 10, 10], 'exam': 10},\n",
    "    {'name': 'Татьяна', 'surname': 'Сидорова', 'sex': 'ж', 'program_exp': True, 'grade': [7, 8, 8, 9, 8], 'exam': 8},\n",
    "    {'name': 'Иван', 'surname': 'Васильев', 'sex': 'м', 'program_exp': True, 'grade': [9, 8, 9, 6, 9], 'exam': 10},\n",
    "    {'name': 'Роман', 'surname': 'Золотарев', 'sex': 'м', 'program_exp': False, 'grade': [8, 9, 9, 6, 9], 'exam': 10}\n",
    "]"
   ]
  },
  {
   "cell_type": "code",
   "execution_count": 16,
   "metadata": {},
   "outputs": [],
   "source": [
    "def user_request():\n",
    "    '''Возвращает выбранную пользователем команду.'''\n",
    "    requests = {1: '- вывести на экран среднюю оценку за все ДЗ по группе и среднюю оценку за экзамен по группе',\\\n",
    "                2: '- вывести среднюю оценку за ДЗ и за экзамен по группе в разрезе пола студентов',\\\n",
    "                3: '- вывести среднюю оценку за ДЗ и за экзамен в разрезе наличия опыта в программировании у студентов'}\n",
    "    print('\\nВыберите команду:')\n",
    "    for command in requests: print (f'\\t{command} {requests[command]}') # печатаю возможные номера команд с расшифровкой\n",
    "    \n",
    "    while True:\n",
    "        your_choice = input('\\n>> ').strip() \n",
    "        if not your_choice.isdigit() or not int(your_choice) in requests.keys(): # проверка пользовательского ввода\n",
    "            print('Введите номер команды!')\n",
    "            continue\n",
    "        break\n",
    " \n",
    "    your_choice = int(your_choice)\n",
    "    return your_choice"
   ]
  },
  {
   "cell_type": "code",
   "execution_count": 17,
   "metadata": {},
   "outputs": [],
   "source": [
    "def avg_hw_rating(choice, spisok=students_list):\n",
    "    '''Выводит средние оценки за ДЗ из списка, в разрезе выбора пользователя. \\\n",
    "Аргументы: choice (int), spisok=students_list (list).'''\n",
    "\n",
    "    display = {1: 'Средняя оценка за все ДЗ по группе: ',\\\n",
    "               2: 'Средняя оценка за ДЗ: Женщины | Мужчины – ',\\\n",
    "               3: 'Средняя оценка за ДЗ: Был опыт в программировании | Не было опыта – '}\n",
    "    \n",
    "    if choice == 1:\n",
    "        hundred_percent = len(spisok)\n",
    "        avg_hw_grades = 0\n",
    "        for element in spisok:\n",
    "            avg_hw_grades += sum(element['grade']) / len(element['grade'])\n",
    "        avg_hw_grades = avg_hw_grades/hundred_percent\n",
    "        print(f'{display[choice]}{round(avg_hw_grades,2)}')\n",
    "    \n",
    "    if choice == 2:\n",
    "        # количество Ж и М, переменная not_specified для случаев, когда пол указан некорректно\n",
    "        women, men, not_specified = 0,0,0\n",
    "        avg_hw_women, avg_hw_men = 0,0\n",
    "        for element in spisok: \n",
    "            if element['sex'] == 'ж': \n",
    "                women +=1\n",
    "                avg_hw_women += sum(element['grade']) / len(element['grade'])\n",
    "                            \n",
    "            elif element['sex'] == 'м': \n",
    "                men +=1\n",
    "                avg_hw_men += sum(element['grade']) / len(element['grade'])\n",
    "                                    \n",
    "            else: not_specified +=1\n",
    "        avg_hw_women = avg_hw_women/women\n",
    "        avg_hw_men = avg_hw_men/men\n",
    "        print(f'{display[choice]}{round(avg_hw_women,2)} | {round(avg_hw_men,2)}')\n",
    "    \n",
    "    if choice == 3:\n",
    "        experience, lack = 0,0 # количество человек с опытом и без опыта\n",
    "        avg_hw_experience, avg_hw_lack = 0,0\n",
    "        for element in spisok: \n",
    "            if element['program_exp']: \n",
    "                experience +=1\n",
    "                avg_hw_experience += sum(element['grade']) / len(element['grade'])\n",
    "                \n",
    "            else: # если значение program_exp не-True, считаю что опыта нет \n",
    "                lack +=1\n",
    "                avg_hw_lack += sum(element['grade']) / len(element['grade'])\n",
    "        avg_hw_experience = avg_hw_experience/experience\n",
    "        avg_hw_lack = avg_hw_lack/lack\n",
    "        print(f'{display[choice]}{round(avg_hw_experience,2)} | {round(avg_hw_lack,2)}')      "
   ]
  },
  {
   "cell_type": "code",
   "execution_count": 18,
   "metadata": {},
   "outputs": [],
   "source": [
    "def avg_exam_rating(choice, spisok=students_list):\n",
    "    '''Выводит средние оценки за экзамен из списка, в разрезе выбора пользователя. \\\n",
    "Аргументы: choice (int), spisok=students_list (list).'''\n",
    "\n",
    "    display = {1: 'Cредняя оценка за экзамен по группе: ',\\\n",
    "               2: 'Средняя оценка за экзамен: Женщины | Мужчины – ',\\\n",
    "               3: 'Средняя оценка за экзамен: Был опыт в программировании | Не было опыта – '}\n",
    "    \n",
    "    if choice == 1:\n",
    "        hundred_percent = len(spisok)\n",
    "        avg_exam_grades = 0\n",
    "        for element in spisok:\n",
    "            avg_exam_grades += element['exam']\n",
    "        avg_exam_grades = avg_exam_grades/hundred_percent\n",
    "        print(f'{display[choice]}{round(avg_exam_grades,2)}')\n",
    "    \n",
    "    if choice == 2:\n",
    "        # количество Ж и М, переменная not_specified для случаев, когда пол указан некорректно\n",
    "        women, men, not_specified = 0,0,0\n",
    "        avg_exam_women, avg_exam_men = 0,0\n",
    "        for element in spisok: \n",
    "            if element['sex'] == 'ж': \n",
    "                women +=1\n",
    "                avg_exam_women += element['exam']\n",
    "                            \n",
    "            elif element['sex'] == 'м': \n",
    "                men +=1\n",
    "                avg_exam_men += element['exam']\n",
    "            \n",
    "            else: not_specified +=1    \n",
    "        avg_exam_women = avg_exam_women/women\n",
    "        avg_exam_men = avg_exam_men/men\n",
    "        print(f'{display[choice]}{round(avg_exam_women,2)} | {round(avg_exam_men,2)}')\n",
    "                   \n",
    "    if choice == 3:\n",
    "        experience, lack = 0,0\n",
    "        avg_exam_experience, avg_exam_lack = 0,0\n",
    "        for element in spisok: \n",
    "            if element['program_exp']: \n",
    "                experience +=1\n",
    "                avg_exam_experience += element['exam']\n",
    "                \n",
    "            else: \n",
    "                lack +=1\n",
    "                avg_exam_lack += element['exam']\n",
    "        avg_exam_experience = avg_exam_experience/experience\n",
    "        avg_exam_lack = avg_exam_lack/lack\n",
    "        print(f'{display[choice]}{round(avg_exam_experience,2)} | {round(avg_exam_lack,2)}')"
   ]
  },
  {
   "cell_type": "code",
   "execution_count": 19,
   "metadata": {},
   "outputs": [
    {
     "name": "stdout",
     "output_type": "stream",
     "text": [
      "\n",
      "Выберите команду:\n",
      "\t1 - вывести на экран среднюю оценку за все ДЗ по группе и среднюю оценку за экзамен по группе\n",
      "\t2 - вывести среднюю оценку за ДЗ и за экзамен по группе в разрезе пола студентов\n",
      "\t3 - вывести среднюю оценку за ДЗ и за экзамен в разрезе наличия опыта в программировании у студентов\n",
      "\n",
      ">> 12345\n",
      "Введите номер команды!\n",
      "\n",
      ">> 1\n",
      "Средняя оценка за все ДЗ по группе: 8.43\n",
      "Cредняя оценка за экзамен по группе: 9.17\n",
      "\n",
      "Продолжаем? Нажмите N для выхода или любую другую клавишу для продолжения:\n",
      ">> fyi\n",
      "\n",
      "Выберите команду:\n",
      "\t1 - вывести на экран среднюю оценку за все ДЗ по группе и среднюю оценку за экзамен по группе\n",
      "\t2 - вывести среднюю оценку за ДЗ и за экзамен по группе в разрезе пола студентов\n",
      "\t3 - вывести среднюю оценку за ДЗ и за экзамен в разрезе наличия опыта в программировании у студентов\n",
      "\n",
      ">> 3\n",
      "Средняя оценка за ДЗ: Был опыт в программировании | Не было опыта – 8.48 | 8.2\n",
      "Средняя оценка за экзамен: Был опыт в программировании | Не было опыта – 9.0 | 10.0\n",
      "\n",
      "Продолжаем? Нажмите N для выхода или любую другую клавишу для продолжения:\n",
      ">> hello\n",
      "\n",
      "Выберите команду:\n",
      "\t1 - вывести на экран среднюю оценку за все ДЗ по группе и среднюю оценку за экзамен по группе\n",
      "\t2 - вывести среднюю оценку за ДЗ и за экзамен по группе в разрезе пола студентов\n",
      "\t3 - вывести среднюю оценку за ДЗ и за экзамен в разрезе наличия опыта в программировании у студентов\n",
      "\n",
      ">> 2\n",
      "Средняя оценка за ДЗ: Женщины | Мужчины – 8.47 | 8.4\n",
      "Средняя оценка за экзамен: Женщины | Мужчины – 8.67 | 9.67\n",
      "\n",
      "Продолжаем? Нажмите N для выхода или любую другую клавишу для продолжения:\n",
      ">> n\n"
     ]
    }
   ],
   "source": [
    "def result():\n",
    "    while True:\n",
    "        choice = user_request()\n",
    "        avg_hw_rating(choice)\n",
    "        avg_exam_rating(choice)\n",
    "        \n",
    "        quit = input('\\nПродолжаем? Нажмите N для выхода или любую другую клавишу для продолжения:\\n>> ')\n",
    "        if quit.upper() == 'N':\n",
    "            break     \n",
    "    \n",
    "result()"
   ]
  }
 ],
 "metadata": {
  "kernelspec": {
   "display_name": "Python 3",
   "language": "python",
   "name": "python3"
  },
  "language_info": {
   "codemirror_mode": {
    "name": "ipython",
    "version": 3
   },
   "file_extension": ".py",
   "mimetype": "text/x-python",
   "name": "python",
   "nbconvert_exporter": "python",
   "pygments_lexer": "ipython3",
   "version": "3.7.3"
  }
 },
 "nbformat": 4,
 "nbformat_minor": 2
}
